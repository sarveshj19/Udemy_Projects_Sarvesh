{
 "cells": [
  {
   "cell_type": "code",
   "execution_count": 43,
   "metadata": {},
   "outputs": [],
   "source": [
    "##STEP 0 -- Importing the libraries\n",
    "\n",
    "\n",
    "import numpy as np\n",
    "import pandas as pd\n",
    "import matplotlib.pyplot as plt\n",
    "import seaborn as sns"
   ]
  },
  {
   "cell_type": "code",
   "execution_count": 44,
   "metadata": {},
   "outputs": [],
   "source": [
    "##STEP1- READ THE DATA USING PANDAS DATAFRAME\n",
    "training_set=pd.read_csv(r'C:\\Users\\sajoshi\\Documents\\Business _Analytics\\udemy_Projects\\Facebook_Ads_2.csv',encoding='ISO-8859-1')\n",
    "##ENCODING IS DONE AS IT HAS LOT OF SPECIAL CHARACTERS\n"
   ]
  },
  {
   "cell_type": "code",
   "execution_count": 45,
   "metadata": {},
   "outputs": [
    {
     "data": {
      "text/html": [
       "<div>\n",
       "<style scoped>\n",
       "    .dataframe tbody tr th:only-of-type {\n",
       "        vertical-align: middle;\n",
       "    }\n",
       "\n",
       "    .dataframe tbody tr th {\n",
       "        vertical-align: top;\n",
       "    }\n",
       "\n",
       "    .dataframe thead th {\n",
       "        text-align: right;\n",
       "    }\n",
       "</style>\n",
       "<table border=\"1\" class=\"dataframe\">\n",
       "  <thead>\n",
       "    <tr style=\"text-align: right;\">\n",
       "      <th></th>\n",
       "      <th>Names</th>\n",
       "      <th>emails</th>\n",
       "      <th>Country</th>\n",
       "      <th>Time Spent on Site</th>\n",
       "      <th>Salary</th>\n",
       "      <th>Clicked</th>\n",
       "    </tr>\n",
       "  </thead>\n",
       "  <tbody>\n",
       "    <tr>\n",
       "      <td>0</td>\n",
       "      <td>Martina Avila</td>\n",
       "      <td>cubilia.Curae.Phasellus@quisaccumsanconvallis.edu</td>\n",
       "      <td>Bulgaria</td>\n",
       "      <td>25.649648</td>\n",
       "      <td>55330.06006</td>\n",
       "      <td>0</td>\n",
       "    </tr>\n",
       "    <tr>\n",
       "      <td>1</td>\n",
       "      <td>Harlan Barnes</td>\n",
       "      <td>eu.dolor@diam.co.uk</td>\n",
       "      <td>Belize</td>\n",
       "      <td>32.456107</td>\n",
       "      <td>79049.07674</td>\n",
       "      <td>1</td>\n",
       "    </tr>\n",
       "    <tr>\n",
       "      <td>2</td>\n",
       "      <td>Naomi Rodriquez</td>\n",
       "      <td>vulputate.mauris.sagittis@ametconsectetueradip...</td>\n",
       "      <td>Algeria</td>\n",
       "      <td>20.945978</td>\n",
       "      <td>41098.60826</td>\n",
       "      <td>0</td>\n",
       "    </tr>\n",
       "    <tr>\n",
       "      <td>3</td>\n",
       "      <td>Jade Cunningham</td>\n",
       "      <td>malesuada@dignissim.com</td>\n",
       "      <td>Cook Islands</td>\n",
       "      <td>54.039325</td>\n",
       "      <td>37143.35536</td>\n",
       "      <td>1</td>\n",
       "    </tr>\n",
       "    <tr>\n",
       "      <td>4</td>\n",
       "      <td>Cedric Leach</td>\n",
       "      <td>felis.ullamcorper.viverra@egetmollislectus.net</td>\n",
       "      <td>Brazil</td>\n",
       "      <td>34.249729</td>\n",
       "      <td>37355.11276</td>\n",
       "      <td>0</td>\n",
       "    </tr>\n",
       "  </tbody>\n",
       "</table>\n",
       "</div>"
      ],
      "text/plain": [
       "             Names                                             emails  \\\n",
       "0    Martina Avila  cubilia.Curae.Phasellus@quisaccumsanconvallis.edu   \n",
       "1    Harlan Barnes                                eu.dolor@diam.co.uk   \n",
       "2  Naomi Rodriquez  vulputate.mauris.sagittis@ametconsectetueradip...   \n",
       "3  Jade Cunningham                            malesuada@dignissim.com   \n",
       "4     Cedric Leach     felis.ullamcorper.viverra@egetmollislectus.net   \n",
       "\n",
       "        Country  Time Spent on Site       Salary  Clicked  \n",
       "0      Bulgaria           25.649648  55330.06006        0  \n",
       "1        Belize           32.456107  79049.07674        1  \n",
       "2       Algeria           20.945978  41098.60826        0  \n",
       "3  Cook Islands           54.039325  37143.35536        1  \n",
       "4        Brazil           34.249729  37355.11276        0  "
      ]
     },
     "execution_count": 45,
     "metadata": {},
     "output_type": "execute_result"
    }
   ],
   "source": [
    "training_set.head() #head values  "
   ]
  },
  {
   "cell_type": "code",
   "execution_count": 46,
   "metadata": {},
   "outputs": [
    {
     "data": {
      "text/html": [
       "<div>\n",
       "<style scoped>\n",
       "    .dataframe tbody tr th:only-of-type {\n",
       "        vertical-align: middle;\n",
       "    }\n",
       "\n",
       "    .dataframe tbody tr th {\n",
       "        vertical-align: top;\n",
       "    }\n",
       "\n",
       "    .dataframe thead th {\n",
       "        text-align: right;\n",
       "    }\n",
       "</style>\n",
       "<table border=\"1\" class=\"dataframe\">\n",
       "  <thead>\n",
       "    <tr style=\"text-align: right;\">\n",
       "      <th></th>\n",
       "      <th>Names</th>\n",
       "      <th>emails</th>\n",
       "      <th>Country</th>\n",
       "      <th>Time Spent on Site</th>\n",
       "      <th>Salary</th>\n",
       "      <th>Clicked</th>\n",
       "    </tr>\n",
       "  </thead>\n",
       "  <tbody>\n",
       "    <tr>\n",
       "      <td>494</td>\n",
       "      <td>Rigel</td>\n",
       "      <td>egestas.blandit.Nam@semvitaealiquam.com</td>\n",
       "      <td>Sao Tome and Principe</td>\n",
       "      <td>19.222746</td>\n",
       "      <td>44969.13495</td>\n",
       "      <td>0</td>\n",
       "    </tr>\n",
       "    <tr>\n",
       "      <td>495</td>\n",
       "      <td>Walter</td>\n",
       "      <td>ligula@Cumsociis.ca</td>\n",
       "      <td>Nepal</td>\n",
       "      <td>22.665662</td>\n",
       "      <td>41686.20425</td>\n",
       "      <td>0</td>\n",
       "    </tr>\n",
       "    <tr>\n",
       "      <td>496</td>\n",
       "      <td>Vanna</td>\n",
       "      <td>Cum.sociis.natoque@Sedmolestie.edu</td>\n",
       "      <td>Zimbabwe</td>\n",
       "      <td>35.320239</td>\n",
       "      <td>23989.80864</td>\n",
       "      <td>0</td>\n",
       "    </tr>\n",
       "    <tr>\n",
       "      <td>497</td>\n",
       "      <td>Pearl</td>\n",
       "      <td>penatibus.et@massanonante.com</td>\n",
       "      <td>Philippines</td>\n",
       "      <td>26.539170</td>\n",
       "      <td>31708.57054</td>\n",
       "      <td>0</td>\n",
       "    </tr>\n",
       "    <tr>\n",
       "      <td>498</td>\n",
       "      <td>Nell</td>\n",
       "      <td>Quisque.varius@arcuVivamussit.net</td>\n",
       "      <td>Botswana</td>\n",
       "      <td>32.386148</td>\n",
       "      <td>74331.35442</td>\n",
       "      <td>1</td>\n",
       "    </tr>\n",
       "  </tbody>\n",
       "</table>\n",
       "</div>"
      ],
      "text/plain": [
       "      Names                                   emails                Country  \\\n",
       "494   Rigel  egestas.blandit.Nam@semvitaealiquam.com  Sao Tome and Principe   \n",
       "495  Walter                      ligula@Cumsociis.ca                  Nepal   \n",
       "496   Vanna       Cum.sociis.natoque@Sedmolestie.edu               Zimbabwe   \n",
       "497   Pearl            penatibus.et@massanonante.com            Philippines   \n",
       "498    Nell        Quisque.varius@arcuVivamussit.net               Botswana   \n",
       "\n",
       "     Time Spent on Site       Salary  Clicked  \n",
       "494           19.222746  44969.13495        0  \n",
       "495           22.665662  41686.20425        0  \n",
       "496           35.320239  23989.80864        0  \n",
       "497           26.539170  31708.57054        0  \n",
       "498           32.386148  74331.35442        1  "
      ]
     },
     "execution_count": 46,
     "metadata": {},
     "output_type": "execute_result"
    }
   ],
   "source": [
    "training_set.tail() #tail values"
   ]
  },
  {
   "cell_type": "code",
   "execution_count": null,
   "metadata": {},
   "outputs": [],
   "source": []
  },
  {
   "cell_type": "code",
   "execution_count": 47,
   "metadata": {},
   "outputs": [],
   "source": [
    "#STEP2 --- EXPLORING THE DATASET\n",
    "click = training_set[training_set['Clicked']==1]\n",
    "no_click = training_set[training_set['Clicked']==0]"
   ]
  },
  {
   "cell_type": "code",
   "execution_count": 48,
   "metadata": {},
   "outputs": [
    {
     "name": "stdout",
     "output_type": "stream",
     "text": [
      "Total= 499\n",
      "No of customers who clicked on Ad= 250\n",
      "Percentage Clicked= 50.1002004008016 %\n",
      "Did not click= 249\n",
      "Percentage who did not Click = 49.899799599198396 %\n"
     ]
    }
   ],
   "source": [
    "print(\"Total=\",len(training_set))\n",
    "print(\"No of customers who clicked on Ad=\",len(click))\n",
    "print(\"Percentage Clicked=\",1.*len(click)/len(training_set)*100.00,\"%\")\n",
    "\n",
    "print(\"Did not click=\",len(no_click))\n",
    "print(\"Percentage who did not Click =\", 1.*len(no_click)/len(training_set)*100.0, \"%\")"
   ]
  },
  {
   "cell_type": "code",
   "execution_count": 49,
   "metadata": {},
   "outputs": [
    {
     "data": {
      "text/plain": [
       "<matplotlib.axes._subplots.AxesSubplot at 0x21fa819b288>"
      ]
     },
     "execution_count": 49,
     "metadata": {},
     "output_type": "execute_result"
    },
    {
     "data": {
      "image/png": "[encoded data removed]",
      "text/plain": [
       "<Figure size 432x288 with 1 Axes>"
      ]
     },
     "metadata": {
      "needs_background": "light"
     },
     "output_type": "display_data"
    }
   ],
   "source": [
    "sns.scatterplot(training_set['Time Spent on Site'], training_set['Salary'], hue= training_set['Clicked'])"
   ]
  },
  {
   "cell_type": "code",
   "execution_count": 50,
   "metadata": {},
   "outputs": [
    {
     "data": {
      "text/plain": [
       "<matplotlib.axes._subplots.AxesSubplot at 0x21fa8241b48>"
      ]
     },
     "execution_count": 50,
     "metadata": {},
     "output_type": "execute_result"
    },
    {
     "data": {
      "image/png": "[encoded data removed]",
      "text/plain": [
       "<Figure size 360x360 with 1 Axes>"
      ]
     },
     "metadata": {
      "needs_background": "light"
     },
     "output_type": "display_data"
    }
   ],
   "source": [
    "plt.figure(figsize=(5,5))   ##boxplot to identify outliers \n",
    "sns.boxplot(x='Clicked',y='Salary',data=training_set) ##1 for click,0 for no_click, both showing outliers focussing on salary"
   ]
  },
  {
   "cell_type": "code",
   "execution_count": 51,
   "metadata": {},
   "outputs": [
    {
     "data": {
      "text/plain": [
       "<matplotlib.axes._subplots.AxesSubplot at 0x21fa87bd4c8>"
      ]
     },
     "execution_count": 51,
     "metadata": {},
     "output_type": "execute_result"
    },
    {
     "data": {
      "image/png": "[encoded data removed]",
      "text/plain": [
       "<Figure size 360x360 with 1 Axes>"
      ]
     },
     "metadata": {
      "needs_background": "light"
     },
     "output_type": "display_data"
    }
   ],
   "source": [
    "plt.figure(figsize=(5,5))\n",
    "sns.boxplot(x='Clicked',y='Time Spent on Site',data=training_set) ##This time focus on Time spent on Site"
   ]
  },
  {
   "cell_type": "code",
   "execution_count": 52,
   "metadata": {},
   "outputs": [
    {
     "data": {
      "text/plain": [
       "<matplotlib.axes._subplots.AxesSubplot at 0x21fa7169f08>"
      ]
     },
     "execution_count": 52,
     "metadata": {},
     "output_type": "execute_result"
    },
    {
     "data": {
      "image/png": "[encoded data removed]",
      "text/plain": [
       "<Figure size 432x288 with 1 Axes>"
      ]
     },
     "metadata": {
      "needs_background": "light"
     },
     "output_type": "display_data"
    }
   ],
   "source": [
    "training_set['Salary'].hist(bins = 40)"
   ]
  },
  {
   "cell_type": "code",
   "execution_count": 53,
   "metadata": {},
   "outputs": [
    {
     "data": {
      "text/plain": [
       "<matplotlib.axes._subplots.AxesSubplot at 0x21fa8294ec8>"
      ]
     },
     "execution_count": 53,
     "metadata": {},
     "output_type": "execute_result"
    },
    {
     "data": {
      "image/png": "[encoded data removed]",
      "text/plain": [
       "<Figure size 432x288 with 1 Axes>"
      ]
     },
     "metadata": {
      "needs_background": "light"
     },
     "output_type": "display_data"
    }
   ],
   "source": [
    "training_set['Time Spent on Site'].hist(bins = 20)"
   ]
  },
  {
   "cell_type": "code",
   "execution_count": 54,
   "metadata": {},
   "outputs": [
    {
     "data": {
      "text/html": [
       "<div>\n",
       "<style scoped>\n",
       "    .dataframe tbody tr th:only-of-type {\n",
       "        vertical-align: middle;\n",
       "    }\n",
       "\n",
       "    .dataframe tbody tr th {\n",
       "        vertical-align: top;\n",
       "    }\n",
       "\n",
       "    .dataframe thead th {\n",
       "        text-align: right;\n",
       "    }\n",
       "</style>\n",
       "<table border=\"1\" class=\"dataframe\">\n",
       "  <thead>\n",
       "    <tr style=\"text-align: right;\">\n",
       "      <th></th>\n",
       "      <th>Names</th>\n",
       "      <th>emails</th>\n",
       "      <th>Country</th>\n",
       "      <th>Time Spent on Site</th>\n",
       "      <th>Salary</th>\n",
       "      <th>Clicked</th>\n",
       "    </tr>\n",
       "  </thead>\n",
       "  <tbody>\n",
       "    <tr>\n",
       "      <td>0</td>\n",
       "      <td>Martina Avila</td>\n",
       "      <td>cubilia.Curae.Phasellus@quisaccumsanconvallis.edu</td>\n",
       "      <td>Bulgaria</td>\n",
       "      <td>25.649648</td>\n",
       "      <td>55330.06006</td>\n",
       "      <td>0</td>\n",
       "    </tr>\n",
       "    <tr>\n",
       "      <td>1</td>\n",
       "      <td>Harlan Barnes</td>\n",
       "      <td>eu.dolor@diam.co.uk</td>\n",
       "      <td>Belize</td>\n",
       "      <td>32.456107</td>\n",
       "      <td>79049.07674</td>\n",
       "      <td>1</td>\n",
       "    </tr>\n",
       "    <tr>\n",
       "      <td>2</td>\n",
       "      <td>Naomi Rodriquez</td>\n",
       "      <td>vulputate.mauris.sagittis@ametconsectetueradip...</td>\n",
       "      <td>Algeria</td>\n",
       "      <td>20.945978</td>\n",
       "      <td>41098.60826</td>\n",
       "      <td>0</td>\n",
       "    </tr>\n",
       "    <tr>\n",
       "      <td>3</td>\n",
       "      <td>Jade Cunningham</td>\n",
       "      <td>malesuada@dignissim.com</td>\n",
       "      <td>Cook Islands</td>\n",
       "      <td>54.039325</td>\n",
       "      <td>37143.35536</td>\n",
       "      <td>1</td>\n",
       "    </tr>\n",
       "    <tr>\n",
       "      <td>4</td>\n",
       "      <td>Cedric Leach</td>\n",
       "      <td>felis.ullamcorper.viverra@egetmollislectus.net</td>\n",
       "      <td>Brazil</td>\n",
       "      <td>34.249729</td>\n",
       "      <td>37355.11276</td>\n",
       "      <td>0</td>\n",
       "    </tr>\n",
       "    <tr>\n",
       "      <td>...</td>\n",
       "      <td>...</td>\n",
       "      <td>...</td>\n",
       "      <td>...</td>\n",
       "      <td>...</td>\n",
       "      <td>...</td>\n",
       "      <td>...</td>\n",
       "    </tr>\n",
       "    <tr>\n",
       "      <td>494</td>\n",
       "      <td>Rigel</td>\n",
       "      <td>egestas.blandit.Nam@semvitaealiquam.com</td>\n",
       "      <td>Sao Tome and Principe</td>\n",
       "      <td>19.222746</td>\n",
       "      <td>44969.13495</td>\n",
       "      <td>0</td>\n",
       "    </tr>\n",
       "    <tr>\n",
       "      <td>495</td>\n",
       "      <td>Walter</td>\n",
       "      <td>ligula@Cumsociis.ca</td>\n",
       "      <td>Nepal</td>\n",
       "      <td>22.665662</td>\n",
       "      <td>41686.20425</td>\n",
       "      <td>0</td>\n",
       "    </tr>\n",
       "    <tr>\n",
       "      <td>496</td>\n",
       "      <td>Vanna</td>\n",
       "      <td>Cum.sociis.natoque@Sedmolestie.edu</td>\n",
       "      <td>Zimbabwe</td>\n",
       "      <td>35.320239</td>\n",
       "      <td>23989.80864</td>\n",
       "      <td>0</td>\n",
       "    </tr>\n",
       "    <tr>\n",
       "      <td>497</td>\n",
       "      <td>Pearl</td>\n",
       "      <td>penatibus.et@massanonante.com</td>\n",
       "      <td>Philippines</td>\n",
       "      <td>26.539170</td>\n",
       "      <td>31708.57054</td>\n",
       "      <td>0</td>\n",
       "    </tr>\n",
       "    <tr>\n",
       "      <td>498</td>\n",
       "      <td>Nell</td>\n",
       "      <td>Quisque.varius@arcuVivamussit.net</td>\n",
       "      <td>Botswana</td>\n",
       "      <td>32.386148</td>\n",
       "      <td>74331.35442</td>\n",
       "      <td>1</td>\n",
       "    </tr>\n",
       "  </tbody>\n",
       "</table>\n",
       "<p>499 rows × 6 columns</p>\n",
       "</div>"
      ],
      "text/plain": [
       "               Names                                             emails  \\\n",
       "0      Martina Avila  cubilia.Curae.Phasellus@quisaccumsanconvallis.edu   \n",
       "1      Harlan Barnes                                eu.dolor@diam.co.uk   \n",
       "2    Naomi Rodriquez  vulputate.mauris.sagittis@ametconsectetueradip...   \n",
       "3    Jade Cunningham                            malesuada@dignissim.com   \n",
       "4       Cedric Leach     felis.ullamcorper.viverra@egetmollislectus.net   \n",
       "..               ...                                                ...   \n",
       "494            Rigel            egestas.blandit.Nam@semvitaealiquam.com   \n",
       "495           Walter                                ligula@Cumsociis.ca   \n",
       "496            Vanna                 Cum.sociis.natoque@Sedmolestie.edu   \n",
       "497            Pearl                      penatibus.et@massanonante.com   \n",
       "498             Nell                  Quisque.varius@arcuVivamussit.net   \n",
       "\n",
       "                   Country  Time Spent on Site       Salary  Clicked  \n",
       "0                 Bulgaria           25.649648  55330.06006        0  \n",
       "1                   Belize           32.456107  79049.07674        1  \n",
       "2                  Algeria           20.945978  41098.60826        0  \n",
       "3             Cook Islands           54.039325  37143.35536        1  \n",
       "4                   Brazil           34.249729  37355.11276        0  \n",
       "..                     ...                 ...          ...      ...  \n",
       "494  Sao Tome and Principe           19.222746  44969.13495        0  \n",
       "495                  Nepal           22.665662  41686.20425        0  \n",
       "496               Zimbabwe           35.320239  23989.80864        0  \n",
       "497            Philippines           26.539170  31708.57054        0  \n",
       "498               Botswana           32.386148  74331.35442        1  \n",
       "\n",
       "[499 rows x 6 columns]"
      ]
     },
     "execution_count": 54,
     "metadata": {},
     "output_type": "execute_result"
    }
   ],
   "source": [
    "#STEP3 -- DATA PREPARATION FOR DATA ANALYSIS\n",
    "training_set"
   ]
  },
  {
   "cell_type": "code",
   "execution_count": 55,
   "metadata": {},
   "outputs": [],
   "source": [
    "#Let's drop the emails, country and names (we can make use of the country later)\n",
    "training_set.drop(['Names', 'emails', 'Country'],axis=1,inplace=True)"
   ]
  },
  {
   "cell_type": "code",
   "execution_count": 56,
   "metadata": {},
   "outputs": [
    {
     "data": {
      "text/html": [
       "<div>\n",
       "<style scoped>\n",
       "    .dataframe tbody tr th:only-of-type {\n",
       "        vertical-align: middle;\n",
       "    }\n",
       "\n",
       "    .dataframe tbody tr th {\n",
       "        vertical-align: top;\n",
       "    }\n",
       "\n",
       "    .dataframe thead th {\n",
       "        text-align: right;\n",
       "    }\n",
       "</style>\n",
       "<table border=\"1\" class=\"dataframe\">\n",
       "  <thead>\n",
       "    <tr style=\"text-align: right;\">\n",
       "      <th></th>\n",
       "      <th>Time Spent on Site</th>\n",
       "      <th>Salary</th>\n",
       "      <th>Clicked</th>\n",
       "    </tr>\n",
       "  </thead>\n",
       "  <tbody>\n",
       "    <tr>\n",
       "      <td>0</td>\n",
       "      <td>25.649648</td>\n",
       "      <td>55330.06006</td>\n",
       "      <td>0</td>\n",
       "    </tr>\n",
       "    <tr>\n",
       "      <td>1</td>\n",
       "      <td>32.456107</td>\n",
       "      <td>79049.07674</td>\n",
       "      <td>1</td>\n",
       "    </tr>\n",
       "    <tr>\n",
       "      <td>2</td>\n",
       "      <td>20.945978</td>\n",
       "      <td>41098.60826</td>\n",
       "      <td>0</td>\n",
       "    </tr>\n",
       "    <tr>\n",
       "      <td>3</td>\n",
       "      <td>54.039325</td>\n",
       "      <td>37143.35536</td>\n",
       "      <td>1</td>\n",
       "    </tr>\n",
       "    <tr>\n",
       "      <td>4</td>\n",
       "      <td>34.249729</td>\n",
       "      <td>37355.11276</td>\n",
       "      <td>0</td>\n",
       "    </tr>\n",
       "    <tr>\n",
       "      <td>...</td>\n",
       "      <td>...</td>\n",
       "      <td>...</td>\n",
       "      <td>...</td>\n",
       "    </tr>\n",
       "    <tr>\n",
       "      <td>494</td>\n",
       "      <td>19.222746</td>\n",
       "      <td>44969.13495</td>\n",
       "      <td>0</td>\n",
       "    </tr>\n",
       "    <tr>\n",
       "      <td>495</td>\n",
       "      <td>22.665662</td>\n",
       "      <td>41686.20425</td>\n",
       "      <td>0</td>\n",
       "    </tr>\n",
       "    <tr>\n",
       "      <td>496</td>\n",
       "      <td>35.320239</td>\n",
       "      <td>23989.80864</td>\n",
       "      <td>0</td>\n",
       "    </tr>\n",
       "    <tr>\n",
       "      <td>497</td>\n",
       "      <td>26.539170</td>\n",
       "      <td>31708.57054</td>\n",
       "      <td>0</td>\n",
       "    </tr>\n",
       "    <tr>\n",
       "      <td>498</td>\n",
       "      <td>32.386148</td>\n",
       "      <td>74331.35442</td>\n",
       "      <td>1</td>\n",
       "    </tr>\n",
       "  </tbody>\n",
       "</table>\n",
       "<p>499 rows × 3 columns</p>\n",
       "</div>"
      ],
      "text/plain": [
       "     Time Spent on Site       Salary  Clicked\n",
       "0             25.649648  55330.06006        0\n",
       "1             32.456107  79049.07674        1\n",
       "2             20.945978  41098.60826        0\n",
       "3             54.039325  37143.35536        1\n",
       "4             34.249729  37355.11276        0\n",
       "..                  ...          ...      ...\n",
       "494           19.222746  44969.13495        0\n",
       "495           22.665662  41686.20425        0\n",
       "496           35.320239  23989.80864        0\n",
       "497           26.539170  31708.57054        0\n",
       "498           32.386148  74331.35442        1\n",
       "\n",
       "[499 rows x 3 columns]"
      ]
     },
     "execution_count": 56,
     "metadata": {},
     "output_type": "execute_result"
    }
   ],
   "source": [
    "training_set"
   ]
  },
  {
   "cell_type": "code",
   "execution_count": 57,
   "metadata": {},
   "outputs": [],
   "source": [
    "#Let's drop the target coloumn before we do train test split\n",
    "X = training_set.drop('Clicked',axis=1).values\n",
    "y = training_set['Clicked'].values"
   ]
  },
  {
   "cell_type": "code",
   "execution_count": 58,
   "metadata": {},
   "outputs": [
    {
     "data": {
      "text/html": [
       "<div>\n",
       "<style scoped>\n",
       "    .dataframe tbody tr th:only-of-type {\n",
       "        vertical-align: middle;\n",
       "    }\n",
       "\n",
       "    .dataframe tbody tr th {\n",
       "        vertical-align: top;\n",
       "    }\n",
       "\n",
       "    .dataframe thead th {\n",
       "        text-align: right;\n",
       "    }\n",
       "</style>\n",
       "<table border=\"1\" class=\"dataframe\">\n",
       "  <thead>\n",
       "    <tr style=\"text-align: right;\">\n",
       "      <th></th>\n",
       "      <th>Time Spent on Site</th>\n",
       "      <th>Salary</th>\n",
       "      <th>Clicked</th>\n",
       "    </tr>\n",
       "  </thead>\n",
       "  <tbody>\n",
       "    <tr>\n",
       "      <td>0</td>\n",
       "      <td>25.649648</td>\n",
       "      <td>55330.06006</td>\n",
       "      <td>0</td>\n",
       "    </tr>\n",
       "    <tr>\n",
       "      <td>1</td>\n",
       "      <td>32.456107</td>\n",
       "      <td>79049.07674</td>\n",
       "      <td>1</td>\n",
       "    </tr>\n",
       "    <tr>\n",
       "      <td>2</td>\n",
       "      <td>20.945978</td>\n",
       "      <td>41098.60826</td>\n",
       "      <td>0</td>\n",
       "    </tr>\n",
       "    <tr>\n",
       "      <td>3</td>\n",
       "      <td>54.039325</td>\n",
       "      <td>37143.35536</td>\n",
       "      <td>1</td>\n",
       "    </tr>\n",
       "    <tr>\n",
       "      <td>4</td>\n",
       "      <td>34.249729</td>\n",
       "      <td>37355.11276</td>\n",
       "      <td>0</td>\n",
       "    </tr>\n",
       "    <tr>\n",
       "      <td>...</td>\n",
       "      <td>...</td>\n",
       "      <td>...</td>\n",
       "      <td>...</td>\n",
       "    </tr>\n",
       "    <tr>\n",
       "      <td>494</td>\n",
       "      <td>19.222746</td>\n",
       "      <td>44969.13495</td>\n",
       "      <td>0</td>\n",
       "    </tr>\n",
       "    <tr>\n",
       "      <td>495</td>\n",
       "      <td>22.665662</td>\n",
       "      <td>41686.20425</td>\n",
       "      <td>0</td>\n",
       "    </tr>\n",
       "    <tr>\n",
       "      <td>496</td>\n",
       "      <td>35.320239</td>\n",
       "      <td>23989.80864</td>\n",
       "      <td>0</td>\n",
       "    </tr>\n",
       "    <tr>\n",
       "      <td>497</td>\n",
       "      <td>26.539170</td>\n",
       "      <td>31708.57054</td>\n",
       "      <td>0</td>\n",
       "    </tr>\n",
       "    <tr>\n",
       "      <td>498</td>\n",
       "      <td>32.386148</td>\n",
       "      <td>74331.35442</td>\n",
       "      <td>1</td>\n",
       "    </tr>\n",
       "  </tbody>\n",
       "</table>\n",
       "<p>499 rows × 3 columns</p>\n",
       "</div>"
      ],
      "text/plain": [
       "     Time Spent on Site       Salary  Clicked\n",
       "0             25.649648  55330.06006        0\n",
       "1             32.456107  79049.07674        1\n",
       "2             20.945978  41098.60826        0\n",
       "3             54.039325  37143.35536        1\n",
       "4             34.249729  37355.11276        0\n",
       "..                  ...          ...      ...\n",
       "494           19.222746  44969.13495        0\n",
       "495           22.665662  41686.20425        0\n",
       "496           35.320239  23989.80864        0\n",
       "497           26.539170  31708.57054        0\n",
       "498           32.386148  74331.35442        1\n",
       "\n",
       "[499 rows x 3 columns]"
      ]
     },
     "execution_count": 58,
     "metadata": {},
     "output_type": "execute_result"
    }
   ],
   "source": [
    "training_set"
   ]
  },
  {
   "cell_type": "code",
   "execution_count": 59,
   "metadata": {},
   "outputs": [],
   "source": [
    "#Feature scaling\n",
    "from sklearn.preprocessing import StandardScaler\n",
    "sc = StandardScaler()\n",
    "X = sc.fit_transform(X)"
   ]
  },
  {
   "cell_type": "code",
   "execution_count": 60,
   "metadata": {},
   "outputs": [],
   "source": [
    "#STEP 4 -- MODEL TRAINING\n",
    "\n",
    "from sklearn.model_selection import train_test_split"
   ]
  },
  {
   "cell_type": "code",
   "execution_count": 61,
   "metadata": {},
   "outputs": [],
   "source": [
    "X_train,X_test,y_train,y_test=train_test_split(X,y,test_size=.2,random_state=0)"
   ]
  },
  {
   "cell_type": "code",
   "execution_count": 62,
   "metadata": {},
   "outputs": [
    {
     "data": {
      "text/plain": [
       "array([[ 1.42362615e+00,  2.28294560e+00],\n",
       "       [ 1.27842887e+00,  6.42418929e-01],\n",
       "       [ 9.38760851e-01,  1.21381549e+00],\n",
       "       [ 5.41314780e-01,  2.60639388e-01],\n",
       "       [ 1.09531908e+00,  4.75030899e-01],\n",
       "       [-1.31149405e+00, -8.81682059e-01],\n",
       "       [ 3.95482032e-01,  1.85281787e+00],\n",
       "       [ 1.23876495e+00,  6.50963986e-01],\n",
       "       [ 3.93751298e-01, -2.41424855e-01],\n",
       "       [-2.40764550e-01, -3.10185529e-01],\n",
       "       [ 1.24585679e+00,  1.41180492e+00],\n",
       "       [-7.96458904e-01, -1.21483411e+00],\n",
       "       [-9.34969620e-01, -1.70625532e-01],\n",
       "       [ 8.55264296e-01, -9.81324726e-01],\n",
       "       [-1.91132465e-01,  4.15148736e-01],\n",
       "       [-1.10130678e+00, -9.69857225e-01],\n",
       "       [ 1.29105293e+00,  1.18761807e+00],\n",
       "       [-5.13376111e-01,  2.30822516e-01],\n",
       "       [ 1.50793876e+00,  5.77561928e-01],\n",
       "       [-1.58972467e-01, -1.50307162e+00],\n",
       "       [-8.42943155e-01, -4.29119606e-01],\n",
       "       [ 3.71283295e-01, -1.24101139e+00],\n",
       "       [-1.50339446e+00, -3.88461766e-01],\n",
       "       [-1.38412304e+00, -7.82259943e-01],\n",
       "       [-9.70629827e-01, -1.79172680e+00],\n",
       "       [-1.64586907e-01,  5.34031939e-01],\n",
       "       [ 4.27588688e-01,  1.49632055e+00],\n",
       "       [-2.20285872e-01, -1.78035137e+00],\n",
       "       [-2.99815039e-01, -4.78395457e-01],\n",
       "       [ 6.26603767e-01,  2.88253836e-01],\n",
       "       [ 4.37877245e-01, -1.07083877e+00],\n",
       "       [ 6.25693271e-02,  1.52483521e+00],\n",
       "       [-1.71553149e-01,  9.27029232e-02],\n",
       "       [-6.03469542e-01, -6.36922663e-01],\n",
       "       [-1.08480907e+00, -7.86291560e-01],\n",
       "       [-9.95654359e-01, -1.55281483e+00],\n",
       "       [-8.30558309e-01, -8.27878447e-01],\n",
       "       [-1.96516240e+00,  2.35892897e+00],\n",
       "       [-1.08090975e+00, -6.45661787e-01],\n",
       "       [-3.97797805e-01,  7.53495593e-01],\n",
       "       [ 4.04226954e-01,  1.01983375e+00],\n",
       "       [-1.33525938e+00, -1.43669691e+00],\n",
       "       [ 5.85176219e-01, -2.95619009e-03],\n",
       "       [ 7.58754335e-01,  9.28106741e-01],\n",
       "       [ 1.13932638e+00,  6.46623388e-02],\n",
       "       [ 1.46195572e-01, -8.19280959e-01],\n",
       "       [-4.57989979e-01,  8.55755068e-01],\n",
       "       [ 1.19093972e+00, -1.11701595e-01],\n",
       "       [ 8.33735517e-01, -1.44091133e-02],\n",
       "       [ 2.09908496e+00,  1.46259598e+00],\n",
       "       [ 1.98004083e-01,  1.46799168e+00],\n",
       "       [-7.23528829e-01, -8.26128261e-01],\n",
       "       [-1.04357578e+00, -1.40648087e+00],\n",
       "       [-3.07006494e+00, -2.93483588e-01],\n",
       "       [-1.04638433e+00,  6.41012750e-01],\n",
       "       [ 1.02580543e+00, -1.09023371e+00],\n",
       "       [ 2.42362882e-01,  9.79617511e-01],\n",
       "       [-1.73917217e+00,  4.62029789e-01],\n",
       "       [ 6.38603734e-03,  1.46624390e+00],\n",
       "       [ 5.27406027e-01,  6.21976462e-01],\n",
       "       [-1.62066851e+00,  1.25136057e+00],\n",
       "       [-4.11683924e-01, -8.01898428e-01],\n",
       "       [ 1.26772505e+00,  1.32538754e+00],\n",
       "       [ 1.06931056e+00,  8.62704790e-01],\n",
       "       [-7.56628310e-01,  1.16045764e+00],\n",
       "       [ 5.17343401e-01, -9.80297728e-02],\n",
       "       [ 9.00127361e-02,  9.03336004e-01],\n",
       "       [ 2.28098620e+00,  1.65189364e-02],\n",
       "       [-5.87212695e-02,  1.12989966e+00],\n",
       "       [-5.10850236e-01,  1.55500352e+00],\n",
       "       [ 5.13026747e-01, -1.53519500e+00],\n",
       "       [ 1.75289177e+00,  1.06719582e+00],\n",
       "       [-8.61257819e-01,  4.61587932e-01],\n",
       "       [ 7.92715785e-01,  1.19646227e+00],\n",
       "       [-1.12757275e+00, -5.90970043e-01],\n",
       "       [-4.63010108e-01,  4.82897080e-01],\n",
       "       [-1.53834725e+00,  6.36975234e-01],\n",
       "       [-7.34061465e-01,  4.45445910e-01],\n",
       "       [-2.16629216e+00, -5.90937478e-01],\n",
       "       [ 9.68142138e-02, -3.89771134e-01],\n",
       "       [ 1.27887913e+00,  3.00539351e-01],\n",
       "       [-8.07290438e-01, -2.51404610e+00],\n",
       "       [-7.70799281e-01, -2.78737926e+00],\n",
       "       [ 1.09575096e+00,  2.77556768e-01],\n",
       "       [-1.54140563e-01, -9.28813900e-01],\n",
       "       [ 1.40123857e+00,  1.31693631e+00],\n",
       "       [ 2.63141389e-01,  1.02742605e-01],\n",
       "       [ 6.26106703e-01,  7.50557005e-01],\n",
       "       [ 2.68027594e-01, -1.46264059e+00],\n",
       "       [-7.83042479e-01, -1.17847545e+00],\n",
       "       [-2.14563526e-01, -1.22150728e+00],\n",
       "       [ 4.48526308e-01, -4.17928816e-01],\n",
       "       [-2.31539247e+00, -3.83492704e-01],\n",
       "       [-2.30791221e+00,  6.30805286e-02],\n",
       "       [ 3.74335737e-01,  1.24675686e+00],\n",
       "       [ 1.20517638e+00,  1.29016696e+00],\n",
       "       [ 3.93423635e-01,  2.18334976e+00],\n",
       "       [ 1.26919024e+00,  5.37010699e-01],\n",
       "       [ 1.75384005e+00, -9.55319376e-01],\n",
       "       [ 8.36006939e-01,  1.29034412e+00],\n",
       "       [-3.79541731e-01,  8.54526231e-01],\n",
       "       [ 4.61044031e-01,  1.22953955e+00],\n",
       "       [-8.55203904e-01,  1.19309732e-01],\n",
       "       [-1.34304341e+00, -2.41164554e+00],\n",
       "       [-2.14676220e-01,  1.08951849e+00],\n",
       "       [ 1.09951354e+00,  2.83820577e-01],\n",
       "       [-8.26322393e-01, -1.81101702e+00],\n",
       "       [ 5.06769182e-01,  5.24684010e-01],\n",
       "       [-3.36520977e-01, -1.80955955e-01],\n",
       "       [-3.22365808e-01,  1.27372563e+00],\n",
       "       [ 9.57532560e-01,  5.39093731e-01],\n",
       "       [-8.84084416e-01, -3.67546944e-01],\n",
       "       [-1.05140613e+00,  3.96649865e-01],\n",
       "       [-2.96569336e-01, -1.02427718e+00],\n",
       "       [-1.31666684e+00, -6.21944817e-01],\n",
       "       [ 5.85621734e-01,  2.22471293e+00],\n",
       "       [-8.97110238e-01, -7.59750031e-01],\n",
       "       [-2.46432412e+00, -7.12438478e-01],\n",
       "       [ 7.36313085e-02,  3.12949006e-01],\n",
       "       [ 8.07307574e-01,  3.89280819e-01],\n",
       "       [-1.83985612e-01,  1.22125527e+00],\n",
       "       [ 7.71325501e-02, -2.89783841e-02],\n",
       "       [ 2.22478229e+00, -5.06242025e-01],\n",
       "       [-7.11760871e-02, -4.61959666e-02],\n",
       "       [ 9.65145405e-01,  8.56079168e-02],\n",
       "       [-6.48493466e-01, -1.63506165e-01],\n",
       "       [ 2.92083143e-01,  1.59028643e+00],\n",
       "       [-1.42957514e+00, -1.19639234e+00],\n",
       "       [ 1.54851891e+00,  7.56632828e-01],\n",
       "       [ 1.01336250e+00,  3.88173967e-01],\n",
       "       [ 3.31256892e-01, -1.12033884e+00],\n",
       "       [-9.42115649e-01, -6.82921220e-01],\n",
       "       [ 6.96080135e-01, -5.47814001e-01],\n",
       "       [ 7.67911699e-01,  7.06197711e-01],\n",
       "       [ 4.67658202e-01,  5.72131754e-01],\n",
       "       [ 3.44927602e-01, -1.47132096e-01],\n",
       "       [ 1.00576017e+00,  1.60149293e+00],\n",
       "       [ 1.74544624e-01,  2.10597713e+00],\n",
       "       [ 2.02565664e+00, -3.80108047e-01],\n",
       "       [-4.25875625e-01, -7.26998696e-01],\n",
       "       [ 1.49602548e+00,  1.77425975e+00],\n",
       "       [-8.36244919e-01,  1.55798548e+00],\n",
       "       [-4.44161882e-01, -8.06752732e-01],\n",
       "       [-2.12819745e-01, -2.09385547e+00],\n",
       "       [-8.10221766e-01, -1.67739289e+00],\n",
       "       [-5.87596986e-01,  6.82896020e-01],\n",
       "       [-9.67986770e-01, -2.74018308e-01],\n",
       "       [ 4.78697583e-01, -5.38748631e-02],\n",
       "       [-1.67886526e+00, -4.43579312e-01],\n",
       "       [-1.15062936e+00, -2.70262657e-01],\n",
       "       [-1.06031983e+00, -6.39528470e-01],\n",
       "       [ 8.35352248e-01,  8.15579497e-01],\n",
       "       [ 4.22850089e-01,  2.99119417e-02],\n",
       "       [-1.52082427e+00, -7.17817507e-01],\n",
       "       [-4.46051290e-01,  1.42238958e-01],\n",
       "       [-2.57773009e-01,  6.77162007e-01],\n",
       "       [ 9.94318342e-01,  5.57837715e-01],\n",
       "       [-1.15672451e+00, -2.35367919e-01],\n",
       "       [ 3.54770860e-01,  9.10179368e-01],\n",
       "       [ 2.11424289e-01, -8.30323562e-01],\n",
       "       [-9.02941484e-01,  2.77678635e-01],\n",
       "       [ 3.33987204e-01, -1.53998204e+00],\n",
       "       [-1.90921852e+00,  1.13647954e-01],\n",
       "       [ 6.74690547e-01, -1.25031357e+00],\n",
       "       [ 1.42843937e+00,  1.07942714e+00],\n",
       "       [-2.10129200e-01, -9.14068144e-02],\n",
       "       [ 3.42595298e-02, -1.00778802e+00],\n",
       "       [ 8.95572644e-02,  6.05801956e-01],\n",
       "       [-2.40954941e-01,  7.44605776e-01],\n",
       "       [ 8.59447839e-01, -9.26391980e-01],\n",
       "       [ 3.20443973e-01,  1.28450995e-01],\n",
       "       [-4.39547045e-01, -6.74015836e-01],\n",
       "       [-8.48086524e-01,  1.31739164e+00],\n",
       "       [ 8.47383498e-01,  3.46881340e-01],\n",
       "       [ 1.60690195e+00,  2.11529721e+00],\n",
       "       [-1.69821011e+00, -6.02685912e-01],\n",
       "       [ 6.11737542e-01, -4.49410826e-01],\n",
       "       [-1.55636639e+00, -7.10749996e-01],\n",
       "       [ 1.51842223e+00,  8.97182126e-01],\n",
       "       [-5.00122693e-01, -1.42137651e+00],\n",
       "       [-2.58428573e-01,  7.94191124e-01],\n",
       "       [-3.51687074e-01,  1.28325152e+00],\n",
       "       [ 5.94008832e-01,  2.44274732e-02],\n",
       "       [-7.92284323e-02, -1.13927733e+00],\n",
       "       [ 2.22717403e-01, -6.89598308e-01],\n",
       "       [ 1.24421282e+00,  1.98007694e+00],\n",
       "       [-5.31909663e-01,  5.18115381e-02],\n",
       "       [-1.15357012e-01,  2.09050843e-01],\n",
       "       [-5.24576689e-02, -6.42743290e-02],\n",
       "       [ 1.01530031e+00, -2.34587828e-01],\n",
       "       [-4.99678376e-01,  1.96345929e+00],\n",
       "       [-1.05817867e+00, -1.75134230e-02],\n",
       "       [ 1.25368222e-01,  1.62675855e-01],\n",
       "       [ 3.21383283e-01, -9.94071196e-01],\n",
       "       [ 3.12995886e-01,  1.72720935e+00],\n",
       "       [-7.28129436e-01,  6.59010772e-01],\n",
       "       [-2.64415935e-01, -2.15238064e+00],\n",
       "       [-2.45407372e-01,  1.48826577e+00],\n",
       "       [ 7.94587947e-01,  1.13587727e+00],\n",
       "       [ 1.48961502e+00,  8.48212532e-01],\n",
       "       [ 6.26794649e-01, -2.40037655e-01],\n",
       "       [-9.11163106e-01, -1.32337060e+00],\n",
       "       [ 1.49769499e+00, -2.23166322e-01],\n",
       "       [ 1.47056762e+00, -7.20031987e-02],\n",
       "       [ 4.81997019e-01,  4.82652448e-01],\n",
       "       [-9.13201126e-01, -9.58097186e-01],\n",
       "       [-1.28672996e+00, -9.37298621e-01],\n",
       "       [ 3.22430299e-03,  2.81874547e-01],\n",
       "       [ 1.08309745e+00,  9.35907145e-01],\n",
       "       [ 2.63907387e-01, -1.52382503e+00],\n",
       "       [-1.37440455e+00, -6.73839622e-01],\n",
       "       [ 9.64390692e-01,  1.96145795e+00],\n",
       "       [-1.03622829e+00, -5.03522602e-01],\n",
       "       [ 6.52849533e-01,  1.29773683e-01],\n",
       "       [ 8.98997888e-01, -1.81000774e-01],\n",
       "       [-6.00890099e-01, -6.74237655e-01],\n",
       "       [ 6.60768319e-02,  2.05846448e-01],\n",
       "       [-2.78093845e-01,  3.49097910e-01],\n",
       "       [ 8.02525626e-01,  7.69345926e-01],\n",
       "       [ 3.88636743e-01, -2.00006952e-01],\n",
       "       [ 1.28833924e+00, -1.13937600e+00],\n",
       "       [ 5.27050651e-01,  1.44743530e-01],\n",
       "       [ 1.48257113e+00,  1.68256408e-01],\n",
       "       [-1.50615103e+00, -4.17912301e-01],\n",
       "       [ 7.19277726e-01, -1.00438525e+00],\n",
       "       [-1.82989184e+00, -7.77146018e-01],\n",
       "       [-1.31874898e+00, -2.34326440e-01],\n",
       "       [-5.59287751e-01, -6.60247498e-02],\n",
       "       [ 4.28762764e-01,  1.17038786e+00],\n",
       "       [ 1.23343285e+00,  3.29963489e-01],\n",
       "       [ 2.86389218e-01,  2.50098261e-01],\n",
       "       [ 1.12386746e+00,  5.76429012e-01],\n",
       "       [ 2.32223270e+00, -8.30443624e-01],\n",
       "       [ 6.62743265e-02, -1.15680141e-01],\n",
       "       [ 7.17787481e-01,  1.53197856e+00],\n",
       "       [-1.36646222e+00, -3.77859008e-01],\n",
       "       [-1.13175416e+00, -1.46893142e+00],\n",
       "       [-7.16051021e-01, -1.29402171e+00],\n",
       "       [ 6.60259442e-02, -1.05868940e-01],\n",
       "       [-1.46834772e-01, -1.23734947e+00],\n",
       "       [ 4.50249526e-01,  1.06273571e+00],\n",
       "       [ 8.99699844e-01,  1.55549616e+00],\n",
       "       [ 1.38267785e+00,  7.78269562e-01],\n",
       "       [-2.16905779e+00, -1.51110615e+00],\n",
       "       [-3.40516022e-01, -5.84545667e-01],\n",
       "       [ 3.30774731e-03, -5.14590296e-01],\n",
       "       [-5.55227833e-01, -1.54686351e+00],\n",
       "       [-1.14994093e+00, -2.41675560e+00],\n",
       "       [ 6.68147688e-02,  4.60377823e-01],\n",
       "       [ 1.77112538e-01, -1.19530208e+00],\n",
       "       [ 1.46184378e-01, -6.28570805e-01],\n",
       "       [-1.32137974e-01,  1.06219226e+00],\n",
       "       [-3.97184190e-01, -7.72570190e-01],\n",
       "       [ 9.97297177e-01,  9.64674708e-02],\n",
       "       [ 1.01932774e+00, -2.57057820e-01],\n",
       "       [ 9.77253201e-01,  1.40360447e+00],\n",
       "       [-4.37119518e-01, -1.21230079e+00],\n",
       "       [-2.08183761e-01, -9.25439405e-01],\n",
       "       [ 6.47280406e-01,  4.42902367e-01],\n",
       "       [-6.51575832e-02, -7.37071697e-01],\n",
       "       [-7.92902568e-01,  1.40635901e-01],\n",
       "       [ 1.14375260e+00,  3.71621874e-01],\n",
       "       [ 1.82927627e+00,  6.98873547e-01],\n",
       "       [ 8.06383164e-02,  1.57436078e-01],\n",
       "       [ 9.65271066e-01, -6.68572372e-01],\n",
       "       [ 1.09829758e+00,  1.58130470e-01],\n",
       "       [ 2.62399033e-01, -2.13904662e+00],\n",
       "       [ 5.83025801e-01, -6.16505695e-01],\n",
       "       [ 1.54767089e+00,  1.91514534e+00],\n",
       "       [ 4.63557430e-01, -6.13245268e-02],\n",
       "       [-5.84577286e-01, -1.08879858e+00],\n",
       "       [-3.86929102e-01, -1.11683559e-01],\n",
       "       [-7.99457658e-01,  1.28257713e-01],\n",
       "       [-1.35670177e+00, -1.37162998e+00],\n",
       "       [-8.30822155e-01,  1.80117605e-01],\n",
       "       [ 1.48805910e+00,  9.27229065e-01],\n",
       "       [-2.20512679e+00, -1.35732813e+00],\n",
       "       [-9.08416002e-01, -8.62416406e-01],\n",
       "       [ 1.06851142e-01,  2.78900567e-01],\n",
       "       [ 9.48297203e-01,  1.52645424e-01],\n",
       "       [-4.24672606e-01,  1.09258439e-01],\n",
       "       [-1.07088607e+00, -5.56898156e-01],\n",
       "       [-3.76790524e-01, -8.05747851e-01],\n",
       "       [ 1.71127024e+00,  7.13893183e-01],\n",
       "       [ 5.59128087e-01,  5.32813464e-01],\n",
       "       [-1.53083648e+00, -1.06206594e-01],\n",
       "       [-3.81072741e-01, -2.05002079e+00],\n",
       "       [-2.20803378e-02, -7.65877249e-01],\n",
       "       [ 1.17686548e+00, -4.72227031e-01],\n",
       "       [ 1.21969727e+00,  5.24899798e-01],\n",
       "       [ 6.73923340e-01,  1.08694925e+00],\n",
       "       [ 7.62151072e-01,  2.21682152e+00],\n",
       "       [ 1.01120803e-01, -1.78517437e+00],\n",
       "       [-1.30466988e+00,  2.73688390e-01],\n",
       "       [ 1.97438437e+00,  3.50674064e-02],\n",
       "       [ 1.23170157e+00,  1.40040161e-01],\n",
       "       [-6.31381571e-01,  1.10571322e-01],\n",
       "       [ 7.06952134e-01,  1.08605172e+00],\n",
       "       [ 4.72072688e-01,  1.54992105e-01],\n",
       "       [-1.56574223e+00,  2.09274899e+00],\n",
       "       [ 7.35118466e-01,  4.70422049e-01],\n",
       "       [ 5.47286312e-01,  3.88731290e-01],\n",
       "       [-4.39656187e-01, -1.33815008e+00],\n",
       "       [-7.01646996e-01, -1.11693508e+00],\n",
       "       [ 2.21338476e+00,  1.06200284e+00],\n",
       "       [ 6.87656629e-01,  1.31802826e+00],\n",
       "       [-5.76773233e-01, -2.67824395e-01],\n",
       "       [-3.46385937e-01,  1.03522177e+00],\n",
       "       [-4.06046726e-01,  6.73695384e-01],\n",
       "       [-1.15244247e+00, -8.95045507e-01],\n",
       "       [-3.48394024e-01,  3.48103203e-02],\n",
       "       [ 4.39769398e-01,  4.62387961e-01],\n",
       "       [-4.13832022e-01, -7.11787278e-01],\n",
       "       [-3.77350625e-01, -1.41877223e+00],\n",
       "       [-1.40217917e+00, -9.69866388e-01],\n",
       "       [-1.90235607e+00, -1.12631589e+00],\n",
       "       [ 1.29267843e+00,  2.27779326e-01],\n",
       "       [ 4.17850565e-02,  7.22629886e-01],\n",
       "       [-1.63019618e-01,  1.19257227e+00],\n",
       "       [-5.73251834e-01, -2.23373358e-01],\n",
       "       [ 1.55596010e+00,  1.46613769e+00],\n",
       "       [ 2.31823509e+00, -4.49316213e-01],\n",
       "       [ 9.65530016e-01,  1.45734843e+00],\n",
       "       [ 2.46884600e-02,  1.57072173e+00],\n",
       "       [-9.02821987e-01,  8.84221540e-01],\n",
       "       [ 8.86682807e-01, -3.85107115e-01],\n",
       "       [-2.84140602e-02,  1.16573516e+00],\n",
       "       [ 7.08248950e-01,  1.47664601e+00],\n",
       "       [ 4.67665396e-01,  5.37880931e-01],\n",
       "       [-3.80043924e-01, -1.06169574e-01],\n",
       "       [-2.76609826e+00, -9.84487785e-01],\n",
       "       [-8.89786073e-01, -5.15023719e-01],\n",
       "       [-5.77249761e-01, -2.57793682e+00],\n",
       "       [-7.59855841e-01, -8.40723148e-01],\n",
       "       [ 1.72135322e-01, -1.59685526e+00],\n",
       "       [-8.27867118e-01, -2.76806472e-01],\n",
       "       [-1.81723975e-01, -5.77507350e-01],\n",
       "       [-2.78376117e-01, -1.02314121e+00],\n",
       "       [-9.76058419e-01, -8.65690883e-01],\n",
       "       [-1.01890451e+00, -1.21711654e+00],\n",
       "       [-6.60486714e-01,  4.49203455e-01],\n",
       "       [ 1.90806627e+00,  1.18123819e+00],\n",
       "       [ 8.28917148e-01,  5.63669895e-02],\n",
       "       [-1.09525041e+00, -9.40895801e-01],\n",
       "       [-1.47452537e-01, -1.02432161e+00],\n",
       "       [ 3.44964294e-01,  6.48699139e-01],\n",
       "       [-1.43047450e+00, -1.05441840e+00],\n",
       "       [-1.07836077e-01, -1.81034324e+00],\n",
       "       [ 7.99054399e-02, -1.08608789e+00],\n",
       "       [-2.73372941e-01, -6.56301972e-01],\n",
       "       [-6.13638244e-01, -5.97782954e-01],\n",
       "       [ 1.46155764e-02,  1.12979229e+00],\n",
       "       [-3.02098814e-01, -1.79861741e+00],\n",
       "       [ 2.39410715e-01,  8.82447136e-01],\n",
       "       [ 4.57969682e-01,  2.03857045e+00],\n",
       "       [ 2.89580706e-01,  9.60049594e-01],\n",
       "       [ 1.88298414e+00,  8.73179066e-01],\n",
       "       [ 1.27332419e+00, -3.98894338e-02],\n",
       "       [-8.43429381e-01, -1.15846205e+00],\n",
       "       [ 1.08537270e-01,  1.30280711e+00],\n",
       "       [ 1.69663462e+00,  1.11208820e-01],\n",
       "       [-1.21727002e-01, -9.06545636e-01],\n",
       "       [ 1.02626226e+00,  7.20450068e-01],\n",
       "       [ 1.87441076e-01,  4.63852044e-01],\n",
       "       [ 3.19541628e-01, -7.48136618e-01],\n",
       "       [-1.52479331e+00, -2.81813172e-01],\n",
       "       [ 1.87463590e+00,  9.98778697e-01],\n",
       "       [ 4.14921072e-01,  1.68278508e+00],\n",
       "       [-9.83818173e-01, -1.43310102e+00],\n",
       "       [-1.89904618e+00, -2.18295716e-01],\n",
       "       [-7.15823921e-01,  1.31349649e-01],\n",
       "       [ 2.18200890e-01,  1.56454875e-01],\n",
       "       [-1.42764854e+00, -9.82238280e-01],\n",
       "       [-4.80512809e-01, -8.57947754e-01],\n",
       "       [ 4.79229983e-01, -1.44345059e-01],\n",
       "       [ 5.22730195e-01,  4.81677546e-01],\n",
       "       [ 9.72978767e-01, -2.81183074e-01],\n",
       "       [ 4.71567012e-02, -4.61818265e-02],\n",
       "       [ 6.23629891e-01,  8.57812291e-02],\n",
       "       [-3.80543438e-01, -8.33300911e-01],\n",
       "       [ 9.99539856e-01,  4.82253821e-01],\n",
       "       [ 2.24544291e-01,  3.78344206e-01],\n",
       "       [-6.18726122e-01, -1.63385576e-02],\n",
       "       [-1.02959805e+00, -5.17888726e-01],\n",
       "       [-5.62486322e-01, -7.50962168e-01],\n",
       "       [ 9.27987041e-01,  1.06803889e+00],\n",
       "       [ 8.13069378e-01, -1.12138977e+00],\n",
       "       [-1.01610140e-01, -5.52306370e-01],\n",
       "       [ 1.05223712e+00,  7.99010943e-01],\n",
       "       [-1.15276892e+00, -2.39817489e-03],\n",
       "       [-3.55476114e-01, -6.21930555e-01],\n",
       "       [ 8.62103501e-01,  4.25322958e-01],\n",
       "       [ 5.68788255e-02, -5.86349250e-01],\n",
       "       [-5.78443863e-01, -1.74139851e+00],\n",
       "       [ 1.18473700e-01, -7.70880173e-01],\n",
       "       [-9.22546096e-01, -4.36985573e-02],\n",
       "       [-2.35017067e-01, -1.40143134e+00],\n",
       "       [-6.06572433e-01, -2.56770275e-01],\n",
       "       [ 1.01503492e+00, -1.50611667e+00]])"
      ]
     },
     "execution_count": 62,
     "metadata": {},
     "output_type": "execute_result"
    }
   ],
   "source": [
    "X_train"
   ]
  },
  {
   "cell_type": "code",
   "execution_count": 63,
   "metadata": {},
   "outputs": [
    {
     "data": {
      "text/plain": [
       "array([[ 0.73806205,  1.28350313],\n",
       "       [-0.58723791,  0.27395547],\n",
       "       [-0.71256845, -0.57358491],\n",
       "       [-1.26962083, -0.73986738],\n",
       "       [ 1.31656657,  0.99859072],\n",
       "       [-0.86464837, -1.85222918],\n",
       "       [-2.08254258, -0.38345788],\n",
       "       [-0.94444841,  0.36776335],\n",
       "       [-0.03442469, -0.05594813],\n",
       "       [-0.36768853, -0.00373411],\n",
       "       [-1.41082303, -0.79844096],\n",
       "       [ 0.26439697,  1.54909798],\n",
       "       [-0.28915176,  0.64496102],\n",
       "       [ 1.74550935,  0.14422903],\n",
       "       [-0.25094105,  0.60194869],\n",
       "       [-2.79280647, -1.58447584],\n",
       "       [-0.70136412, -0.10168633],\n",
       "       [-0.34762336, -1.183535  ],\n",
       "       [-0.25983674,  2.10689272],\n",
       "       [ 0.17829758,  1.33153806],\n",
       "       [ 1.98642752,  0.56921304],\n",
       "       [-1.27725848,  0.75229732],\n",
       "       [ 1.9031094 , -1.11700106],\n",
       "       [ 0.94359166,  0.67442703],\n",
       "       [-1.5436646 , -0.01992591],\n",
       "       [ 0.63363571, -0.50924687],\n",
       "       [-0.80515926,  0.03868032],\n",
       "       [-1.73989886,  0.3337805 ],\n",
       "       [-0.90967295, -0.4537635 ],\n",
       "       [-0.67455575, -0.06355596],\n",
       "       [ 2.04452218,  1.04577832],\n",
       "       [ 0.83216697,  0.55971261],\n",
       "       [-0.71646946, -0.57367583],\n",
       "       [-2.42517327, -1.9550286 ],\n",
       "       [-1.82782453, -1.05304777],\n",
       "       [ 1.31599336,  0.09414218],\n",
       "       [-0.22744256, -1.17735631],\n",
       "       [ 0.53103109,  1.09595804],\n",
       "       [ 0.50713383,  0.00757085],\n",
       "       [-1.45053222, -0.5282418 ],\n",
       "       [ 1.12735434, -0.62540056],\n",
       "       [-1.34212381, -0.99650999],\n",
       "       [-0.30504816, -1.72320179],\n",
       "       [ 0.13944089, -1.96405161],\n",
       "       [ 0.57676707, -1.2740372 ],\n",
       "       [-0.05102869,  1.37859159],\n",
       "       [ 0.21832125, -0.68034255],\n",
       "       [ 0.40552943,  0.64032555],\n",
       "       [-0.55109436, -0.70013171],\n",
       "       [-0.30914276,  0.10784616],\n",
       "       [ 0.4347472 ,  1.84558386],\n",
       "       [ 1.26540129,  1.79220984],\n",
       "       [ 0.03033629,  1.90588939],\n",
       "       [ 0.36168742,  0.32263163],\n",
       "       [ 0.32081864,  0.0436354 ],\n",
       "       [-0.83639857, -0.4814404 ],\n",
       "       [ 0.51094328, -0.65963839],\n",
       "       [ 2.58562316,  0.42588382],\n",
       "       [ 0.66060588,  0.77643268],\n",
       "       [ 0.95503764,  1.47119015],\n",
       "       [-1.43765282, -1.77126845],\n",
       "       [-1.60915516, -1.01003137],\n",
       "       [-0.69286883,  1.24451155],\n",
       "       [ 1.12889157,  1.98190953],\n",
       "       [-0.07517195, -1.16628841],\n",
       "       [ 0.28333186,  0.68138399],\n",
       "       [ 0.03874873,  0.06484002],\n",
       "       [-0.57071564, -0.30592547],\n",
       "       [ 1.65191608,  0.39639709],\n",
       "       [ 2.21607671,  0.65618093],\n",
       "       [-0.54651424,  0.18482599],\n",
       "       [ 0.63026888,  0.25811257],\n",
       "       [ 0.80993083, -1.72046521],\n",
       "       [-0.41024316, -0.01157535],\n",
       "       [-1.38883228, -0.41562641],\n",
       "       [-2.36068144, -0.94112951],\n",
       "       [-0.93314621, -1.68487057],\n",
       "       [ 0.35850272, -0.40828013],\n",
       "       [ 0.20981483, -0.14473617],\n",
       "       [ 0.60501723,  0.42156914],\n",
       "       [-1.49843916, -0.1004506 ],\n",
       "       [ 0.09859274, -0.36021227],\n",
       "       [-0.09844689, -0.12488071],\n",
       "       [-1.04655997, -0.16805771],\n",
       "       [-0.05113102, -1.12628909],\n",
       "       [ 1.09773526,  1.34446404],\n",
       "       [ 0.30047805,  1.24373063],\n",
       "       [ 0.26821903,  0.86213531],\n",
       "       [ 0.51923571, -0.32474864],\n",
       "       [ 2.97766046,  1.2441721 ],\n",
       "       [ 1.42461266, -0.08481678],\n",
       "       [-0.52462554,  0.52628708],\n",
       "       [ 0.64614513,  1.05983228],\n",
       "       [ 0.34408   ,  0.43945185],\n",
       "       [-0.33795414,  0.19866318],\n",
       "       [ 0.12953499,  1.14768065],\n",
       "       [-0.71831102, -0.83376867],\n",
       "       [ 0.20117316, -0.20263885],\n",
       "       [-0.33833993,  2.48300707],\n",
       "       [-0.29186454,  1.64486245]])"
      ]
     },
     "execution_count": 63,
     "metadata": {},
     "output_type": "execute_result"
    }
   ],
   "source": [
    "X_test"
   ]
  },
  {
   "cell_type": "code",
   "execution_count": 64,
   "metadata": {},
   "outputs": [
    {
     "data": {
      "text/plain": [
       "array([1, 1, 1, 0, 1, 0, 1, 1, 0, 0, 1, 0, 0, 1, 0, 0, 1, 1, 1, 0, 0, 1,\n",
       "       0, 0, 0, 1, 1, 0, 0, 1, 0, 1, 0, 0, 0, 0, 0, 0, 0, 0, 1, 0, 0, 1,\n",
       "       1, 0, 1, 1, 1, 1, 1, 0, 0, 0, 0, 1, 1, 0, 1, 1, 0, 0, 1, 1, 1, 1,\n",
       "       1, 1, 1, 1, 0, 1, 0, 1, 0, 0, 0, 0, 0, 0, 1, 0, 0, 1, 0, 1, 1, 1,\n",
       "       0, 0, 0, 0, 0, 0, 1, 1, 1, 1, 1, 1, 1, 1, 0, 0, 0, 1, 0, 1, 0, 1,\n",
       "       1, 0, 0, 0, 0, 1, 0, 0, 1, 1, 1, 1, 1, 1, 1, 0, 1, 0, 1, 1, 0, 0,\n",
       "       1, 1, 1, 1, 1, 1, 1, 1, 1, 1, 0, 0, 0, 0, 0, 1, 0, 0, 0, 1, 0, 0,\n",
       "       0, 1, 1, 0, 1, 0, 0, 0, 0, 0, 1, 0, 0, 1, 1, 1, 1, 0, 1, 1, 1, 0,\n",
       "       1, 0, 1, 0, 1, 1, 1, 0, 0, 1, 0, 1, 0, 1, 1, 1, 1, 0, 1, 1, 0, 1,\n",
       "       1, 1, 1, 0, 1, 1, 1, 0, 0, 1, 1, 0, 0, 1, 0, 1, 1, 0, 1, 1, 1, 0,\n",
       "       1, 1, 1, 0, 0, 0, 0, 0, 1, 1, 1, 1, 1, 0, 1, 0, 0, 0, 0, 0, 1, 1,\n",
       "       1, 0, 0, 0, 0, 0, 1, 0, 0, 1, 0, 1, 1, 1, 0, 0, 1, 0, 0, 1, 1, 0,\n",
       "       1, 1, 0, 1, 1, 1, 0, 0, 0, 0, 0, 1, 0, 0, 0, 1, 0, 0, 0, 1, 1, 0,\n",
       "       0, 0, 0, 1, 1, 1, 0, 0, 1, 1, 0, 1, 1, 1, 1, 1, 0, 0, 1, 1, 0, 1,\n",
       "       1, 0, 0, 1, 0, 0, 0, 0, 1, 0, 0, 0, 1, 1, 1, 1, 1, 1, 1, 1, 1, 0,\n",
       "       0, 0, 0, 0, 0, 0, 0, 0, 1, 0, 0, 1, 1, 0, 0, 1, 0, 0, 0, 0, 0, 1,\n",
       "       0, 1, 1, 1, 1, 1, 0, 1, 1, 0, 1, 1, 0, 0, 1, 1, 0, 0, 0, 0, 0, 0,\n",
       "       0, 1, 1, 1, 1, 0, 1, 1, 1, 0, 0, 1, 0, 0, 1, 0, 0, 1, 0, 0, 0, 0,\n",
       "       0, 0, 1], dtype=int64)"
      ]
     },
     "execution_count": 64,
     "metadata": {},
     "output_type": "execute_result"
    }
   ],
   "source": [
    "y_train"
   ]
  },
  {
   "cell_type": "code",
   "execution_count": 65,
   "metadata": {
    "scrolled": true
   },
   "outputs": [
    {
     "data": {
      "text/plain": [
       "array([1, 1, 0, 1, 1, 0, 0, 0, 1, 0, 0, 1, 0, 1, 1, 0, 0, 0, 1, 1, 1, 0,\n",
       "       0, 1, 0, 0, 0, 0, 1, 1, 1, 1, 0, 0, 0, 1, 0, 1, 1, 0, 1, 1, 0, 0,\n",
       "       0, 1, 0, 1, 0, 1, 1, 1, 1, 1, 1, 0, 0, 1, 1, 1, 0, 0, 1, 1, 0, 1,\n",
       "       0, 0, 1, 1, 0, 1, 0, 0, 0, 0, 0, 1, 1, 0, 0, 0, 0, 0, 0, 1, 1, 1,\n",
       "       1, 1, 1, 0, 1, 1, 0, 1, 0, 1, 1, 1], dtype=int64)"
      ]
     },
     "execution_count": 65,
     "metadata": {},
     "output_type": "execute_result"
    }
   ],
   "source": [
    "y_test"
   ]
  },
  {
   "cell_type": "code",
   "execution_count": 66,
   "metadata": {},
   "outputs": [
    {
     "data": {
      "text/plain": [
       "LogisticRegression(C=1.0, class_weight=None, dual=False, fit_intercept=True,\n",
       "                   intercept_scaling=1, l1_ratio=None, max_iter=100,\n",
       "                   multi_class='warn', n_jobs=None, penalty='l2',\n",
       "                   random_state=None, solver='liblinear', tol=0.0001, verbose=0,\n",
       "                   warm_start=False)"
      ]
     },
     "execution_count": 66,
     "metadata": {},
     "output_type": "execute_result"
    }
   ],
   "source": [
    "# Fitting Logistic Regression to the Training set\n",
    "from sklearn.linear_model import LogisticRegression\n",
    "classifier = LogisticRegression(solver='liblinear')\n",
    "classifier.fit(X_train, y_train)"
   ]
  },
  {
   "cell_type": "code",
   "execution_count": 67,
   "metadata": {},
   "outputs": [
    {
     "data": {
      "text/plain": [
       "array([[1.04798929e-04, 9.99895201e-01],\n",
       "       [7.19683160e-03, 9.92803168e-01],\n",
       "       [4.82025474e-03, 9.95179745e-01],\n",
       "       [1.18335155e-01, 8.81664845e-01],\n",
       "       [1.74268000e-02, 9.82573200e-01],\n",
       "       [9.96843786e-01, 3.15621386e-03],\n",
       "       [4.81146182e-03, 9.95188538e-01],\n",
       "       [7.86149840e-03, 9.92138502e-01],\n",
       "       [3.94513483e-01, 6.05486517e-01],\n",
       "       [8.13979971e-01, 1.86020029e-01],\n",
       "       [1.30909122e-03, 9.98690909e-01],\n",
       "       [9.94054934e-01, 5.94506578e-03],\n",
       "       [9.55095213e-01, 4.49047874e-02],\n",
       "       [5.08539341e-01, 4.91460659e-01],\n",
       "       [4.11689014e-01, 5.88310986e-01],\n",
       "       [9.95431057e-01, 4.56894307e-03],\n",
       "       [1.95209720e-03, 9.98047903e-01],\n",
       "       [7.23060260e-01, 2.76939740e-01],\n",
       "       [4.47011369e-03, 9.95529886e-01],\n",
       "       [9.82735506e-01, 1.72644937e-02],\n",
       "       [9.67986020e-01, 3.20139797e-02],\n",
       "       [8.77779422e-01, 1.22220578e-01],\n",
       "       [9.94111370e-01, 5.88863026e-03],\n",
       "       [9.96738288e-01, 3.26171158e-03],\n",
       "       [9.99039692e-01, 9.60308130e-04],\n",
       "       [3.30036122e-01, 6.69963878e-01],\n",
       "       [1.00881968e-02, 9.89911803e-01],\n",
       "       [9.92299804e-01, 7.70019629e-03],\n",
       "       [8.84097834e-01, 1.15902166e-01],\n",
       "       [9.05238133e-02, 9.09476187e-01],\n",
       "       [8.00673317e-01, 1.99326683e-01],\n",
       "       [2.53352749e-02, 9.74664725e-01],\n",
       "       [5.85032249e-01, 4.14967751e-01],\n",
       "       [9.62205738e-01, 3.77942622e-02],\n",
       "       [9.92675415e-01, 7.32458509e-03],\n",
       "       [9.98433283e-01, 1.56671657e-03],\n",
       "       [9.86715424e-01, 1.32845760e-02],\n",
       "       [4.92780016e-01, 5.07219984e-01],\n",
       "       [9.89743099e-01, 1.02569006e-02],\n",
       "       [3.58809847e-01, 6.41190153e-01],\n",
       "       [3.20628916e-02, 9.67937108e-01],\n",
       "       [9.99190919e-01, 8.09080565e-04],\n",
       "       [1.80609370e-01, 8.19390630e-01],\n",
       "       [1.52602554e-02, 9.84739745e-01],\n",
       "       [3.94234713e-02, 9.60576529e-01],\n",
       "       [8.32520520e-01, 1.67479480e-01],\n",
       "       [3.42014205e-01, 6.57985795e-01],\n",
       "       [5.10545159e-02, 9.48945484e-01],\n",
       "       [1.02618547e-01, 8.97381453e-01],\n",
       "       [1.11592085e-04, 9.99888408e-01],\n",
       "       [2.00534500e-02, 9.79946550e-01],\n",
       "       [9.82182088e-01, 1.78179123e-02],\n",
       "       [9.98066697e-01, 1.93330252e-03],\n",
       "       [9.99900154e-01, 9.98455529e-05],\n",
       "       [8.12275806e-01, 1.87724194e-01],\n",
       "       [4.55190365e-01, 5.44809635e-01],\n",
       "       [5.37277446e-02, 9.46272255e-01],\n",
       "       [9.77844914e-01, 2.21550861e-02],\n",
       "       [3.36194863e-02, 9.66380514e-01],\n",
       "       [5.65029427e-02, 9.43497057e-01],\n",
       "       [8.34140473e-01, 1.65859527e-01],\n",
       "       [9.56725822e-01, 4.32741778e-02],\n",
       "       [1.50860550e-03, 9.98491395e-01],\n",
       "       [7.63360761e-03, 9.92366392e-01],\n",
       "       [3.66690703e-01, 6.33309297e-01],\n",
       "       [2.49097822e-01, 7.50902178e-01],\n",
       "       [9.35097388e-02, 9.06490261e-01],\n",
       "       [1.98970016e-03, 9.98010300e-01],\n",
       "       [8.37254667e-02, 9.16274533e-01],\n",
       "       [1.04824059e-01, 8.95175941e-01],\n",
       "       [9.06379652e-01, 9.36203475e-02],\n",
       "       [7.28118676e-04, 9.99271881e-01],\n",
       "       [7.98324245e-01, 2.01675755e-01],\n",
       "       [7.47877043e-03, 9.92521230e-01],\n",
       "       [9.89746085e-01, 1.02539153e-02],\n",
       "       [5.57653273e-01, 4.42346727e-01],\n",
       "       [9.44075292e-01, 5.59247083e-02],\n",
       "       [7.43470129e-01, 2.56529871e-01],\n",
       "       [9.99403635e-01, 5.96365238e-04],\n",
       "       [6.75813165e-01, 3.24186835e-01],\n",
       "       [1.58530500e-02, 9.84146950e-01],\n",
       "       [9.99722129e-01, 2.77870589e-04],\n",
       "       [9.99837906e-01, 1.62093541e-04],\n",
       "       [2.73468502e-02, 9.72653150e-01],\n",
       "       [9.36142996e-01, 6.38570042e-02],\n",
       "       [1.06663495e-03, 9.98933365e-01],\n",
       "       [2.94311153e-01, 7.05688847e-01],\n",
       "       [3.26948287e-02, 9.67305171e-01],\n",
       "       [9.41240088e-01, 5.87599125e-02],\n",
       "       [9.93289269e-01, 6.71073124e-03],\n",
       "       [9.71689999e-01, 2.83100012e-02],\n",
       "       [4.58588930e-01, 5.41411070e-01],\n",
       "       [9.99356877e-01, 6.43122803e-04],\n",
       "       [9.98136371e-01, 1.86362936e-03],\n",
       "       [2.07114293e-02, 9.79288571e-01],\n",
       "       [1.94452286e-03, 9.98055477e-01],\n",
       "       [2.23908542e-03, 9.97760915e-01],\n",
       "       [9.42484773e-03, 9.90575152e-01],\n",
       "       [7.61453468e-02, 9.23854653e-01],\n",
       "       [5.34227126e-03, 9.94657729e-01],\n",
       "       [2.95873005e-01, 7.04126995e-01],\n",
       "       [1.70545534e-02, 9.82945447e-01],\n",
       "       [8.96587099e-01, 1.03412901e-01],\n",
       "       [9.99918983e-01, 8.10173327e-05],\n",
       "       [1.33569724e-01, 8.66430276e-01],\n",
       "       [2.66898955e-02, 9.73310104e-01],\n",
       "       [9.98635864e-01, 1.36413559e-03],\n",
       "       [7.37128165e-02, 9.26287184e-01],\n",
       "       [8.07977995e-01, 1.92022005e-01],\n",
       "       [1.18707730e-01, 8.81292270e-01],\n",
       "       [2.18088490e-02, 9.78191151e-01],\n",
       "       [9.67012093e-01, 3.29879074e-02],\n",
       "       [8.85975187e-01, 1.14024813e-01],\n",
       "       [9.64422433e-01, 3.55775669e-02],\n",
       "       [9.94301656e-01, 5.69834361e-03],\n",
       "       [1.19985690e-03, 9.98800143e-01],\n",
       "       [9.87020187e-01, 1.29798133e-02],\n",
       "       [9.99802040e-01, 1.97959669e-04],\n",
       "       [3.00381476e-01, 6.99618524e-01],\n",
       "       [4.56450570e-02, 9.54354943e-01],\n",
       "       [9.42980828e-02, 9.05701917e-01],\n",
       "       [4.86184557e-01, 5.13815443e-01],\n",
       "       [7.84108732e-03, 9.92158913e-01],\n",
       "       [5.96894882e-01, 4.03105118e-01],\n",
       "       [5.93272168e-02, 9.40672783e-01],\n",
       "       [9.04942660e-01, 9.50573397e-02],\n",
       "       [1.17313496e-02, 9.88268650e-01],\n",
       "       [9.98904954e-01, 1.09504566e-03],\n",
       "       [2.63495344e-03, 9.97365047e-01],\n",
       "       [2.64993144e-02, 9.73500686e-01],\n",
       "       [8.58061808e-01, 1.41938192e-01],\n",
       "       [9.86282249e-01, 1.37177514e-02],\n",
       "       [3.67614119e-01, 6.32385881e-01],\n",
       "       [2.47659937e-02, 9.75234006e-01],\n",
       "       [7.34732760e-02, 9.26526724e-01],\n",
       "       [3.74073411e-01, 6.25926589e-01],\n",
       "       [1.62430117e-03, 9.98375699e-01],\n",
       "       [4.88353792e-03, 9.95116462e-01],\n",
       "       [1.00670668e-02, 9.89932933e-01],\n",
       "       [9.50722535e-01, 4.92774649e-02],\n",
       "       [2.82257747e-04, 9.99717742e-01],\n",
       "       [2.21396926e-01, 7.78603074e-01],\n",
       "       [9.60704754e-01, 3.92952462e-02],\n",
       "       [9.96210042e-01, 3.78995759e-03],\n",
       "       [9.98052104e-01, 1.94789619e-03],\n",
       "       [5.26517502e-01, 4.73482498e-01],\n",
       "       [9.67385802e-01, 3.26141978e-02],\n",
       "       [2.49642672e-01, 7.50357328e-01],\n",
       "       [9.96795342e-01, 3.20465785e-03],\n",
       "       [9.79825540e-01, 2.01744596e-02],\n",
       "       [9.88997484e-01, 1.10025163e-02],\n",
       "       [1.60732969e-02, 9.83926703e-01],\n",
       "       [2.41761787e-01, 7.58238213e-01],\n",
       "       [9.97393513e-01, 2.60648675e-03],\n",
       "       [7.27485001e-01, 2.72514999e-01],\n",
       "       [3.12865422e-01, 6.87134578e-01],\n",
       "       [1.89221212e-02, 9.81077879e-01],\n",
       "       [9.78502390e-01, 2.14976104e-02],\n",
       "       [4.67499366e-02, 9.53250063e-01],\n",
       "       [8.10026503e-01, 1.89973497e-01],\n",
       "       [8.72204644e-01, 1.27795356e-01],\n",
       "       [9.41221358e-01, 5.87786424e-02],\n",
       "       [9.93753626e-01, 6.24637438e-03],\n",
       "       [7.61256324e-01, 2.38743676e-01],\n",
       "       [1.72405503e-03, 9.98275945e-01],\n",
       "       [7.06850348e-01, 2.93149652e-01],\n",
       "       [9.13104354e-01, 8.68956464e-02],\n",
       "       [1.71607180e-01, 8.28392820e-01],\n",
       "       [2.70766950e-01, 7.29233050e-01],\n",
       "       [4.73566497e-01, 5.26433503e-01],\n",
       "       [2.51215926e-01, 7.48784074e-01],\n",
       "       [9.46515106e-01, 5.34848942e-02],\n",
       "       [3.40242560e-01, 6.59757440e-01],\n",
       "       [4.51705583e-02, 9.54829442e-01],\n",
       "       [9.37452179e-05, 9.99906255e-01],\n",
       "       [9.97903269e-01, 2.09673144e-03],\n",
       "       [3.67983155e-01, 6.32016845e-01],\n",
       "       [9.97596153e-01, 2.40384748e-03],\n",
       "       [2.06137956e-03, 9.97938620e-01],\n",
       "       [9.91740132e-01, 8.25986834e-03],\n",
       "       [2.57556637e-01, 7.42443363e-01],\n",
       "       [1.24942685e-01, 8.75057315e-01],\n",
       "       [1.67904604e-01, 8.32095396e-01],\n",
       "       [9.51273457e-01, 4.87265434e-02],\n",
       "       [7.48375840e-01, 2.51624160e-01],\n",
       "       [3.48375483e-04, 9.99651625e-01],\n",
       "       [8.06801508e-01, 1.93198492e-01],\n",
       "       [4.79232982e-01, 5.20767018e-01],\n",
       "       [5.94691629e-01, 4.05308371e-01],\n",
       "       [1.04111173e-01, 8.95888827e-01],\n",
       "       [4.18510871e-02, 9.58148913e-01],\n",
       "       [9.54247782e-01, 4.57522184e-02],\n",
       "       [3.46120194e-01, 6.53879806e-01],\n",
       "       [8.22160583e-01, 1.77839417e-01],\n",
       "       [8.07044524e-03, 9.91929555e-01],\n",
       "       [6.33721910e-01, 3.66278090e-01],\n",
       "       [9.97129194e-01, 2.87080603e-03],\n",
       "       [6.19166723e-02, 9.38083328e-01],\n",
       "       [8.56384060e-03, 9.91436159e-01],\n",
       "       [2.50088347e-03, 9.97499117e-01],\n",
       "       [2.55020048e-01, 7.44979952e-01],\n",
       "       [9.96626139e-01, 3.37386134e-03],\n",
       "       [2.91796485e-02, 9.70820352e-01],\n",
       "       [2.22323850e-02, 9.77767615e-01],\n",
       "       [8.59110135e-02, 9.14088987e-01],\n",
       "       [9.92150932e-01, 7.84906806e-03],\n",
       "       [9.97033103e-01, 2.96689737e-03],\n",
       "       [3.59089408e-01, 6.40910592e-01],\n",
       "       [6.20207184e-03, 9.93797928e-01],\n",
       "       [9.49222096e-01, 5.07779039e-02],\n",
       "       [9.95687503e-01, 4.31249714e-03],\n",
       "       [7.84725739e-04, 9.99215274e-01],\n",
       "       [9.83924047e-01, 1.60759528e-02],\n",
       "       [1.18296110e-01, 8.81703890e-01],\n",
       "       [1.23671379e-01, 8.76328621e-01],\n",
       "       [9.65016512e-01, 3.49834876e-02],\n",
       "       [3.60270285e-01, 6.39729715e-01],\n",
       "       [5.09119566e-01, 4.90880434e-01],\n",
       "       [1.95308124e-02, 9.80469188e-01],\n",
       "       [3.74910365e-01, 6.25089635e-01],\n",
       "       [3.12985631e-01, 6.87014369e-01],\n",
       "       [1.54727504e-01, 8.45272496e-01],\n",
       "       [1.23861134e-02, 9.87613887e-01],\n",
       "       [9.94542492e-01, 5.45750752e-03],\n",
       "       [6.13438113e-01, 3.86561887e-01],\n",
       "       [9.99028040e-01, 9.71959720e-04],\n",
       "       [9.86086442e-01, 1.39135584e-02],\n",
       "       [8.55725588e-01, 1.44274412e-01],\n",
       "       [2.13094876e-02, 9.78690512e-01],\n",
       "       [1.67517747e-02, 9.83248225e-01],\n",
       "       [2.17021110e-01, 7.82978890e-01],\n",
       "       [1.27700196e-02, 9.87229980e-01],\n",
       "       [1.27432191e-02, 9.87256781e-01],\n",
       "       [5.44227214e-01, 4.55772786e-01],\n",
       "       [4.20565161e-03, 9.95794348e-01],\n",
       "       [9.91231143e-01, 8.76885666e-03],\n",
       "       [9.98688122e-01, 1.31187810e-03],\n",
       "       [9.93840050e-01, 6.15995006e-03],\n",
       "       [5.38698666e-01, 4.61301334e-01],\n",
       "       [9.67288312e-01, 3.27116885e-02],\n",
       "       [2.57234897e-02, 9.74276510e-01],\n",
       "       [2.41892743e-03, 9.97581073e-01],\n",
       "       [3.94583679e-03, 9.96054163e-01],\n",
       "       [9.99931190e-01, 6.88098834e-05],\n",
       "       [9.16212864e-01, 8.37871355e-02],\n",
       "       [7.83048582e-01, 2.16951418e-01],\n",
       "       [9.94690925e-01, 5.30907517e-03],\n",
       "       [9.99863914e-01, 1.36086475e-04],\n",
       "       [2.36563733e-01, 7.63436267e-01],\n",
       "       [9.16691261e-01, 8.33087394e-02],\n",
       "       [7.60882472e-01, 2.39117528e-01],\n",
       "       [1.15817467e-01, 8.84182533e-01],\n",
       "       [9.52006779e-01, 4.79932205e-02],\n",
       "       [5.32881400e-02, 9.46711860e-01],\n",
       "       [1.08045472e-01, 8.91954528e-01],\n",
       "       [2.78749400e-03, 9.97212506e-01],\n",
       "       [9.84107043e-01, 1.58929567e-02],\n",
       "       [9.44050829e-01, 5.59491709e-02],\n",
       "       [6.14666344e-02, 9.38533366e-01],\n",
       "       [8.79963340e-01, 1.20036660e-01],\n",
       "       [8.74217966e-01, 1.25782034e-01],\n",
       "       [1.93909608e-02, 9.80609039e-01],\n",
       "       [1.39613663e-03, 9.98603863e-01],\n",
       "       [3.77313868e-01, 6.22686132e-01],\n",
       "       [2.68997612e-01, 7.31002388e-01],\n",
       "       [3.56032662e-02, 9.64396734e-01],\n",
       "       [9.87524520e-01, 1.24754800e-02],\n",
       "       [4.82228325e-01, 5.17771675e-01],\n",
       "       [1.76170457e-04, 9.99823830e-01],\n",
       "       [2.60862885e-01, 7.39137115e-01],\n",
       "       [9.85827418e-01, 1.41725821e-02],\n",
       "       [8.04302240e-01, 1.95697760e-01],\n",
       "       [8.79292463e-01, 1.20707537e-01],\n",
       "       [9.99111886e-01, 8.88113556e-04],\n",
       "       [8.75514860e-01, 1.24485140e-01],\n",
       "       [2.08861156e-03, 9.97911388e-01],\n",
       "       [9.99910707e-01, 8.92931289e-05],\n",
       "       [9.90072969e-01, 9.92703050e-03],\n",
       "       [2.97940745e-01, 7.02059255e-01],\n",
       "       [5.34518035e-02, 9.46548196e-01],\n",
       "       [7.31117427e-01, 2.68882573e-01],\n",
       "       [9.87058839e-01, 1.29411610e-02],\n",
       "       [9.52982646e-01, 4.70173538e-02],\n",
       "       [1.86336112e-03, 9.98136639e-01],\n",
       "       [6.33340598e-02, 9.36665940e-01],\n",
       "       [9.89480937e-01, 1.05190627e-02],\n",
       "       [9.97352311e-01, 2.64768853e-03],\n",
       "       [8.74471859e-01, 1.25528141e-01],\n",
       "       [1.15020853e-01, 8.84979147e-01],\n",
       "       [1.10895285e-02, 9.88910472e-01],\n",
       "       [1.33134908e-02, 9.86686509e-01],\n",
       "       [7.52778353e-04, 9.99247222e-01],\n",
       "       [9.81780085e-01, 1.82199150e-02],\n",
       "       [9.54080445e-01, 4.59195551e-02],\n",
       "       [4.41359885e-03, 9.95586401e-01],\n",
       "       [2.59994521e-02, 9.74000548e-01],\n",
       "       [8.27105974e-01, 1.72894026e-01],\n",
       "       [1.21976844e-02, 9.87802316e-01],\n",
       "       [1.72089542e-01, 8.27910458e-01],\n",
       "       [3.76641684e-01, 6.23358316e-01],\n",
       "       [4.60197757e-02, 9.53980224e-01],\n",
       "       [8.91279307e-02, 9.10872069e-01],\n",
       "       [9.88193316e-01, 1.18066837e-02],\n",
       "       [9.90336509e-01, 9.66349136e-03],\n",
       "       [2.08037907e-04, 9.99791962e-01],\n",
       "       [7.51100478e-03, 9.92488995e-01],\n",
       "       [9.08904047e-01, 9.10959533e-02],\n",
       "       [2.00877821e-01, 7.99122179e-01],\n",
       "       [4.08251243e-01, 5.91748757e-01],\n",
       "       [9.95271534e-01, 4.72846633e-03],\n",
       "       [7.24089149e-01, 2.75910851e-01],\n",
       "       [9.96450776e-02, 9.00354922e-01],\n",
       "       [9.47403626e-01, 5.25963741e-02],\n",
       "       [9.88394344e-01, 1.16056556e-02],\n",
       "       [9.97996187e-01, 2.00381331e-03],\n",
       "       [9.99647857e-01, 3.52143150e-04],\n",
       "       [1.80546071e-02, 9.81945393e-01],\n",
       "       [1.52350351e-01, 8.47649649e-01],\n",
       "       [9.51109382e-02, 9.04889062e-01],\n",
       "       [8.99046147e-01, 1.00953853e-01],\n",
       "       [4.92091325e-04, 9.99507909e-01],\n",
       "       [5.32253604e-03, 9.94677464e-01],\n",
       "       [2.53930424e-03, 9.97460696e-01],\n",
       "       [2.52553468e-02, 9.74744653e-01],\n",
       "       [6.22801587e-01, 3.77198413e-01],\n",
       "       [1.90489603e-01, 8.09510397e-01],\n",
       "       [7.17654723e-02, 9.28234528e-01],\n",
       "       [4.91044721e-03, 9.95089553e-01],\n",
       "       [7.91157554e-02, 9.20884245e-01],\n",
       "       [7.99245503e-01, 2.00754497e-01],\n",
       "       [9.99954278e-01, 4.57222554e-05],\n",
       "       [9.76767841e-01, 2.32321589e-02],\n",
       "       [9.99549809e-01, 4.50190917e-04],\n",
       "       [9.84381189e-01, 1.56188107e-02],\n",
       "       [9.66144006e-01, 3.38559940e-02],\n",
       "       [9.53083362e-01, 4.69166383e-02],\n",
       "       [8.74259055e-01, 1.25740945e-01],\n",
       "       [9.62571030e-01, 3.74289702e-02],\n",
       "       [9.91805426e-01, 8.19457378e-03],\n",
       "       [9.96782215e-01, 3.21778504e-03],\n",
       "       [7.01220021e-01, 2.98779979e-01],\n",
       "       [3.64181255e-04, 9.99635819e-01],\n",
       "       [8.94165902e-02, 9.10583410e-01],\n",
       "       [9.95030754e-01, 4.96924574e-03],\n",
       "       [9.47357497e-01, 5.26425033e-02],\n",
       "       [8.49847505e-02, 9.15015249e-01],\n",
       "       [9.98478040e-01, 1.52195974e-03],\n",
       "       [9.90242652e-01, 9.75734849e-03],\n",
       "       [9.17576590e-01, 8.24234101e-02],\n",
       "       [9.14925391e-01, 8.50746095e-02],\n",
       "       [9.59823205e-01, 4.01767950e-02],\n",
       "       [6.95224904e-02, 9.30477510e-01],\n",
       "       [9.94096710e-01, 5.90328989e-03],\n",
       "       [6.70326706e-02, 9.32967329e-01],\n",
       "       [2.62996435e-03, 9.97370036e-01],\n",
       "       [4.96147043e-02, 9.50385296e-01],\n",
       "       [8.01705998e-04, 9.99198294e-01],\n",
       "       [3.49984220e-02, 9.65001578e-01],\n",
       "       [9.94038414e-01, 5.96158570e-03],\n",
       "       [3.70814766e-02, 9.62918523e-01],\n",
       "       [7.89572082e-03, 9.92104279e-01],\n",
       "       [9.27166815e-01, 7.28331845e-02],\n",
       "       [1.19325751e-02, 9.88067425e-01],\n",
       "       [1.80758985e-01, 8.19241015e-01],\n",
       "       [7.23288346e-01, 2.76711654e-01],\n",
       "       [9.92883231e-01, 7.11676883e-03],\n",
       "       [6.11596928e-04, 9.99388403e-01],\n",
       "       [6.77570833e-03, 9.93224292e-01],\n",
       "       [9.97859662e-01, 2.14033842e-03],\n",
       "       [9.97035295e-01, 2.96470461e-03],\n",
       "       [8.51787896e-01, 1.48212104e-01],\n",
       "       [2.93865208e-01, 7.06134792e-01],\n",
       "       [9.98184588e-01, 1.81541166e-03],\n",
       "       [9.68207257e-01, 3.17927434e-02],\n",
       "       [2.91036263e-01, 7.08963737e-01],\n",
       "       [7.76818835e-02, 9.22318117e-01],\n",
       "       [1.27075771e-01, 8.72924229e-01],\n",
       "       [5.16828166e-01, 4.83171834e-01],\n",
       "       [1.38779368e-01, 8.61220632e-01],\n",
       "       [9.56221390e-01, 4.37786100e-02],\n",
       "       [2.21858523e-02, 9.77814148e-01],\n",
       "       [1.95737086e-01, 8.04262914e-01],\n",
       "       [8.61444736e-01, 1.38555264e-01],\n",
       "       [9.84165601e-01, 1.58343986e-02],\n",
       "       [9.67428673e-01, 3.25713270e-02],\n",
       "       [6.96758932e-03, 9.93032411e-01],\n",
       "       [6.17215619e-01, 3.82784381e-01],\n",
       "       [8.40245351e-01, 1.59754649e-01],\n",
       "       [9.27031868e-03, 9.90729681e-01],\n",
       "       [9.63110994e-01, 3.68890059e-02],\n",
       "       [9.25568475e-01, 7.44315252e-02],\n",
       "       [3.64379679e-02, 9.63562032e-01],\n",
       "       [7.86535500e-01, 2.13464500e-01],\n",
       "       [9.96833200e-01, 3.16679978e-03],\n",
       "       [8.27292300e-01, 1.72707700e-01],\n",
       "       [9.38556399e-01, 6.14436014e-02],\n",
       "       [9.82240237e-01, 1.77597634e-02],\n",
       "       [9.13438059e-01, 8.65619406e-02],\n",
       "       [6.94808824e-01, 3.05191176e-01]])"
      ]
     },
     "execution_count": 67,
     "metadata": {},
     "output_type": "execute_result"
    }
   ],
   "source": [
    "##STEP 5--- MODEL TESTING\n",
    "\n",
    "y_proba = classifier.predict_proba(X_train)\n",
    "y_proba"
   ]
  },
  {
   "cell_type": "code",
   "execution_count": 69,
   "metadata": {},
   "outputs": [
    {
     "data": {
      "text/plain": [
       "array([1, 1, 1, 1, 1, 0, 1, 1, 1, 0, 1, 0, 0, 0, 1, 0, 1, 0, 1, 0, 0, 0,\n",
       "       0, 0, 0, 1, 1, 0, 0, 1, 0, 1, 0, 0, 0, 0, 0, 1, 0, 1, 1, 0, 1, 1,\n",
       "       1, 0, 1, 1, 1, 1, 1, 0, 0, 0, 0, 1, 1, 0, 1, 1, 0, 0, 1, 1, 1, 1,\n",
       "       1, 1, 1, 1, 0, 1, 0, 1, 0, 0, 0, 0, 0, 0, 1, 0, 0, 1, 0, 1, 1, 1,\n",
       "       0, 0, 0, 1, 0, 0, 1, 1, 1, 1, 1, 1, 1, 1, 0, 0, 1, 1, 0, 1, 0, 1,\n",
       "       1, 0, 0, 0, 0, 1, 0, 0, 1, 1, 1, 1, 1, 0, 1, 0, 1, 0, 1, 1, 0, 0,\n",
       "       1, 1, 1, 1, 1, 1, 1, 0, 1, 1, 0, 0, 0, 0, 0, 1, 0, 0, 0, 1, 1, 0,\n",
       "       0, 1, 1, 0, 1, 0, 0, 0, 0, 0, 1, 0, 0, 1, 1, 1, 1, 0, 1, 1, 1, 0,\n",
       "       1, 0, 1, 0, 1, 1, 1, 0, 0, 1, 0, 1, 0, 1, 1, 0, 1, 0, 1, 0, 0, 1,\n",
       "       1, 1, 1, 0, 1, 1, 1, 0, 0, 1, 1, 0, 0, 1, 0, 1, 1, 0, 1, 0, 1, 1,\n",
       "       1, 1, 1, 0, 0, 0, 0, 0, 1, 1, 1, 1, 1, 0, 1, 0, 0, 0, 0, 0, 1, 1,\n",
       "       1, 0, 0, 0, 0, 0, 1, 0, 0, 1, 0, 1, 1, 1, 0, 0, 1, 0, 0, 1, 1, 1,\n",
       "       1, 1, 0, 1, 1, 1, 0, 0, 0, 0, 0, 1, 0, 0, 1, 1, 0, 0, 0, 1, 1, 0,\n",
       "       0, 0, 1, 1, 1, 1, 0, 0, 1, 1, 0, 1, 1, 1, 1, 1, 0, 0, 1, 1, 0, 1,\n",
       "       1, 0, 0, 1, 0, 0, 0, 0, 1, 1, 1, 0, 1, 1, 1, 1, 0, 1, 1, 1, 1, 0,\n",
       "       0, 0, 0, 0, 0, 0, 0, 0, 0, 0, 0, 1, 1, 0, 0, 1, 0, 0, 0, 0, 0, 1,\n",
       "       0, 1, 1, 1, 1, 1, 0, 1, 1, 0, 1, 1, 0, 0, 1, 1, 0, 0, 0, 1, 0, 0,\n",
       "       1, 1, 1, 0, 1, 0, 1, 1, 0, 0, 0, 1, 0, 0, 1, 0, 0, 1, 0, 0, 0, 0,\n",
       "       0, 0, 0], dtype=int64)"
      ]
     },
     "execution_count": 69,
     "metadata": {},
     "output_type": "execute_result"
    }
   ],
   "source": [
    "y_predict_train = classifier.predict(X_train)\n",
    "y_predict_train"
   ]
  },
  {
   "cell_type": "code",
   "execution_count": 70,
   "metadata": {},
   "outputs": [
    {
     "data": {
      "text/plain": [
       "array([1, 1, 1, 0, 1, 0, 1, 1, 0, 0, 1, 0, 0, 1, 0, 0, 1, 1, 1, 0, 0, 1,\n",
       "       0, 0, 0, 1, 1, 0, 0, 1, 0, 1, 0, 0, 0, 0, 0, 0, 0, 0, 1, 0, 0, 1,\n",
       "       1, 0, 1, 1, 1, 1, 1, 0, 0, 0, 0, 1, 1, 0, 1, 1, 0, 0, 1, 1, 1, 1,\n",
       "       1, 1, 1, 1, 0, 1, 0, 1, 0, 0, 0, 0, 0, 0, 1, 0, 0, 1, 0, 1, 1, 1,\n",
       "       0, 0, 0, 0, 0, 0, 1, 1, 1, 1, 1, 1, 1, 1, 0, 0, 0, 1, 0, 1, 0, 1,\n",
       "       1, 0, 0, 0, 0, 1, 0, 0, 1, 1, 1, 1, 1, 1, 1, 0, 1, 0, 1, 1, 0, 0,\n",
       "       1, 1, 1, 1, 1, 1, 1, 1, 1, 1, 0, 0, 0, 0, 0, 1, 0, 0, 0, 1, 0, 0,\n",
       "       0, 1, 1, 0, 1, 0, 0, 0, 0, 0, 1, 0, 0, 1, 1, 1, 1, 0, 1, 1, 1, 0,\n",
       "       1, 0, 1, 0, 1, 1, 1, 0, 0, 1, 0, 1, 0, 1, 1, 1, 1, 0, 1, 1, 0, 1,\n",
       "       1, 1, 1, 0, 1, 1, 1, 0, 0, 1, 1, 0, 0, 1, 0, 1, 1, 0, 1, 1, 1, 0,\n",
       "       1, 1, 1, 0, 0, 0, 0, 0, 1, 1, 1, 1, 1, 0, 1, 0, 0, 0, 0, 0, 1, 1,\n",
       "       1, 0, 0, 0, 0, 0, 1, 0, 0, 1, 0, 1, 1, 1, 0, 0, 1, 0, 0, 1, 1, 0,\n",
       "       1, 1, 0, 1, 1, 1, 0, 0, 0, 0, 0, 1, 0, 0, 0, 1, 0, 0, 0, 1, 1, 0,\n",
       "       0, 0, 0, 1, 1, 1, 0, 0, 1, 1, 0, 1, 1, 1, 1, 1, 0, 0, 1, 1, 0, 1,\n",
       "       1, 0, 0, 1, 0, 0, 0, 0, 1, 0, 0, 0, 1, 1, 1, 1, 1, 1, 1, 1, 1, 0,\n",
       "       0, 0, 0, 0, 0, 0, 0, 0, 1, 0, 0, 1, 1, 0, 0, 1, 0, 0, 0, 0, 0, 1,\n",
       "       0, 1, 1, 1, 1, 1, 0, 1, 1, 0, 1, 1, 0, 0, 1, 1, 0, 0, 0, 0, 0, 0,\n",
       "       0, 1, 1, 1, 1, 0, 1, 1, 1, 0, 0, 1, 0, 0, 1, 0, 0, 1, 0, 0, 0, 0,\n",
       "       0, 0, 1], dtype=int64)"
      ]
     },
     "execution_count": 70,
     "metadata": {},
     "output_type": "execute_result"
    }
   ],
   "source": [
    "y_train"
   ]
  },
  {
   "cell_type": "code",
   "execution_count": 73,
   "metadata": {},
   "outputs": [
    {
     "data": {
      "text/plain": [
       "<matplotlib.axes._subplots.AxesSubplot at 0x21faa1fc148>"
      ]
     },
     "execution_count": 73,
     "metadata": {},
     "output_type": "execute_result"
    },
    {
     "data": {
      "image/png": "[encoded data removed]",
      "text/plain": [
       "<Figure size 432x288 with 2 Axes>"
      ]
     },
     "metadata": {
      "needs_background": "light"
     },
     "output_type": "display_data"
    }
   ],
   "source": [
    "from sklearn.metrics import classification_report,confusion_matrix\n",
    "cm = confusion_matrix(y_train,y_predict_train)\n",
    "sns.heatmap(cm, annot=True, fmt='d')"
   ]
  },
  {
   "cell_type": "code",
   "execution_count": 74,
   "metadata": {},
   "outputs": [
    {
     "data": {
      "text/plain": [
       "array([1, 0, 0, 0, 1, 0, 0, 0, 0, 0, 0, 1, 1, 1, 1, 0, 0, 0, 1, 1, 1, 0,\n",
       "       1, 1, 0, 1, 0, 0, 0, 0, 1, 1, 0, 0, 0, 1, 0, 1, 1, 0, 1, 0, 0, 0,\n",
       "       0, 1, 0, 1, 0, 0, 1, 1, 1, 1, 1, 0, 0, 1, 1, 1, 0, 0, 1, 1, 0, 1,\n",
       "       1, 0, 1, 1, 0, 1, 0, 0, 0, 0, 0, 0, 1, 1, 0, 0, 0, 0, 0, 1, 1, 1,\n",
       "       1, 1, 1, 0, 1, 1, 0, 1, 0, 0, 1, 1], dtype=int64)"
      ]
     },
     "execution_count": 74,
     "metadata": {},
     "output_type": "execute_result"
    }
   ],
   "source": [
    "y_predict_test = classifier.predict(X_test)\n",
    "y_predict_test"
   ]
  },
  {
   "cell_type": "code",
   "execution_count": 76,
   "metadata": {},
   "outputs": [
    {
     "data": {
      "text/plain": [
       "<matplotlib.axes._subplots.AxesSubplot at 0x21fab6c45c8>"
      ]
     },
     "execution_count": 76,
     "metadata": {},
     "output_type": "execute_result"
    },
    {
     "data": {
      "image/png": "[encoded data removed]",
      "text/plain": [
       "<Figure size 432x288 with 2 Axes>"
      ]
     },
     "metadata": {
      "needs_background": "light"
     },
     "output_type": "display_data"
    }
   ],
   "source": [
    "cm = confusion_matrix(y_test, y_predict_test)\n",
    "sns.heatmap(cm, annot=True, fmt='d')"
   ]
  },
  {
   "cell_type": "code",
   "execution_count": 78,
   "metadata": {},
   "outputs": [
    {
     "name": "stdout",
     "output_type": "stream",
     "text": [
      "              precision    recall  f1-score   support\n",
      "\n",
      "           0       0.83      0.90      0.86        48\n",
      "           1       0.90      0.83      0.86        52\n",
      "\n",
      "    accuracy                           0.86       100\n",
      "   macro avg       0.86      0.86      0.86       100\n",
      "weighted avg       0.86      0.86      0.86       100\n",
      "\n"
     ]
    }
   ],
   "source": [
    "from sklearn.metrics import classification_report\n",
    "print(classification_report(y_test,y_predict_test))\n"
   ]
  },
  {
   "cell_type": "code",
   "execution_count": 83,
   "metadata": {},
   "outputs": [],
   "source": [
    "##STEP 6 -- VISUALIZING TRAINING & TESTING DATASETS\n",
    "from matplotlib.colors import ListedColormap\n",
    "X_set, y_set = X_train, y_train\n",
    "\n"
   ]
  },
  {
   "cell_type": "code",
   "execution_count": 82,
   "metadata": {},
   "outputs": [],
   "source": [
    "# Create a meshgrid ranging from the minimum to maximum value for both features\n",
    "X1, X2 = np.meshgrid(np.arange(start = X_set[:, 0].min() - 1, stop = X_set[:, 0].max() + 1, step = 0.01),\n",
    "                     np.arange(start = X_set[:, 1].min() - 1, stop = X_set[:, 1].max() + 1, step = 0.01))"
   ]
  },
  {
   "cell_type": "code",
   "execution_count": 84,
   "metadata": {},
   "outputs": [
    {
     "data": {
      "text/plain": [
       "(399,)"
      ]
     },
     "execution_count": 84,
     "metadata": {},
     "output_type": "execute_result"
    }
   ],
   "source": [
    "y_train.shape"
   ]
  },
  {
   "cell_type": "code",
   "execution_count": 85,
   "metadata": {},
   "outputs": [
    {
     "data": {
      "text/plain": [
       "(399, 2)"
      ]
     },
     "execution_count": 85,
     "metadata": {},
     "output_type": "execute_result"
    }
   ],
   "source": [
    "X_train.shape"
   ]
  },
  {
   "cell_type": "code",
   "execution_count": 86,
   "metadata": {},
   "outputs": [
    {
     "data": {
      "text/plain": [
       "(715, 740)"
      ]
     },
     "execution_count": 86,
     "metadata": {},
     "output_type": "execute_result"
    }
   ],
   "source": [
    "X1.shape"
   ]
  },
  {
   "cell_type": "code",
   "execution_count": 88,
   "metadata": {},
   "outputs": [
    {
     "data": {
      "text/plain": [
       "(-3.787379255660188, 3.3526207443396596)"
      ]
     },
     "execution_count": 88,
     "metadata": {},
     "output_type": "execute_result"
    },
    {
     "data": {
      "image/png": "[encoded data removed]",
      "text/plain": [
       "<Figure size 432x288 with 1 Axes>"
      ]
     },
     "metadata": {
      "needs_background": "light"
     },
     "output_type": "display_data"
    }
   ],
   "source": [
    "# plot the boundary using the trained classifier\n",
    "# Run the classifier to predict the outcome on all pixels with resolution of 0.01\n",
    "# Colouring the pixels with 0 or 1\n",
    "# If classified as 0 it will be magenta, and if it is classified as 1 it will be shown in blue \n",
    "plt.contourf(X1, X2, classifier.predict(np.array([X1.ravel(), X2.ravel()]).T).reshape(X1.shape),\n",
    "             alpha = 0.75, cmap = ListedColormap(('magenta', 'blue')))\n",
    "plt.xlim(X1.min(), X1.max())\n",
    "plt.ylim(X2.min(), X2.max())"
   ]
  },
  {
   "cell_type": "code",
   "execution_count": 95,
   "metadata": {},
   "outputs": [
    {
     "name": "stderr",
     "output_type": "stream",
     "text": [
      "'c' argument looks like a single numeric RGB or RGBA sequence, which should be avoided as value-mapping will have precedence in case its length matches with 'x' & 'y'.  Please use a 2-D array with a single row if you really want to specify the same RGB or RGBA value for all points.\n",
      "'c' argument looks like a single numeric RGB or RGBA sequence, which should be avoided as value-mapping will have precedence in case its length matches with 'x' & 'y'.  Please use a 2-D array with a single row if you really want to specify the same RGB or RGBA value for all points.\n"
     ]
    },
    {
     "data": {
      "image/png": "[encoded data removed]",
      "text/plain": [
       "<Figure size 432x288 with 1 Axes>"
      ]
     },
     "metadata": {
      "needs_background": "light"
     },
     "output_type": "display_data"
    }
   ],
   "source": [
    "for i, j in enumerate(np.unique(y_set)):\n",
    "    plt.scatter(X_set[y_set == j, 0], X_set[y_set == j, 1],\n",
    "                c = ListedColormap(('magenta', 'blue'))(i), label = j)\n",
    "    \n",
    "plt.title('Facebook Ad: Customer Click Prediction (Training set)')\n",
    "plt.xlabel('Time Spent on Site')\n",
    "plt.ylabel('Estimated Salary')\n",
    "plt.legend()\n",
    "plt.show()"
   ]
  },
  {
   "cell_type": "code",
   "execution_count": 96,
   "metadata": {},
   "outputs": [
    {
     "name": "stderr",
     "output_type": "stream",
     "text": [
      "'c' argument looks like a single numeric RGB or RGBA sequence, which should be avoided as value-mapping will have precedence in case its length matches with 'x' & 'y'.  Please use a 2-D array with a single row if you really want to specify the same RGB or RGBA value for all points.\n",
      "'c' argument looks like a single numeric RGB or RGBA sequence, which should be avoided as value-mapping will have precedence in case its length matches with 'x' & 'y'.  Please use a 2-D array with a single row if you really want to specify the same RGB or RGBA value for all points.\n"
     ]
    },
    {
     "data": {
      "image/png": "[encoded data removed]",
      "text/plain": [
       "<Figure size 432x288 with 1 Axes>"
      ]
     },
     "metadata": {
      "needs_background": "light"
     },
     "output_type": "display_data"
    }
   ],
   "source": [
    "# Visualising the Training set results\n",
    "from matplotlib.colors import ListedColormap\n",
    "X_set, y_set = X_train, y_train\n",
    "X1, X2 = np.meshgrid(np.arange(start = X_set[:, 0].min() - 1, stop = X_set[:, 0].max() + 1, step = 0.01),\n",
    "                     np.arange(start = X_set[:, 1].min() - 1, stop = X_set[:, 1].max() + 1, step = 0.01))\n",
    "plt.contourf(X1, X2, classifier.predict(np.array([X1.ravel(), X2.ravel()]).T).reshape(X1.shape),\n",
    "             alpha = 0.75, cmap = ListedColormap(('magenta', 'blue')))\n",
    "plt.xlim(X1.min(), X1.max())\n",
    "plt.ylim(X2.min(), X2.max())\n",
    "for i, j in enumerate(np.unique(y_set)):\n",
    "    plt.scatter(X_set[y_set == j, 0], X_set[y_set == j, 1],\n",
    "                c = ListedColormap(('magenta', 'blue'))(i), label = j)\n",
    "plt.title('Facebook Ad: Customer Click Prediction (Training set)')\n",
    "plt.xlabel('Time Spent on Site')\n",
    "plt.ylabel('Estimated Salary')\n",
    "plt.legend()\n",
    "plt.show()"
   ]
  },
  {
   "cell_type": "code",
   "execution_count": 97,
   "metadata": {},
   "outputs": [
    {
     "name": "stderr",
     "output_type": "stream",
     "text": [
      "'c' argument looks like a single numeric RGB or RGBA sequence, which should be avoided as value-mapping will have precedence in case its length matches with 'x' & 'y'.  Please use a 2-D array with a single row if you really want to specify the same RGB or RGBA value for all points.\n",
      "'c' argument looks like a single numeric RGB or RGBA sequence, which should be avoided as value-mapping will have precedence in case its length matches with 'x' & 'y'.  Please use a 2-D array with a single row if you really want to specify the same RGB or RGBA value for all points.\n"
     ]
    },
    {
     "data": {
      "image/png": "[encoded data removed]",
      "text/plain": [
       "<Figure size 432x288 with 1 Axes>"
      ]
     },
     "metadata": {
      "needs_background": "light"
     },
     "output_type": "display_data"
    }
   ],
   "source": [
    "# Visualising the Training set results\n",
    "from matplotlib.colors import ListedColormap\n",
    "X_set, y_set = X_test, y_test\n",
    "X1, X2 = np.meshgrid(np.arange(start = X_set[:, 0].min() - 1, stop = X_set[:, 0].max() + 1, step = 0.01),\n",
    "                     np.arange(start = X_set[:, 1].min() - 1, stop = X_set[:, 1].max() + 1, step = 0.01))\n",
    "plt.contourf(X1, X2, classifier.predict(np.array([X1.ravel(), X2.ravel()]).T).reshape(X1.shape),\n",
    "             alpha = 0.75, cmap = ListedColormap(('magenta', 'blue')))\n",
    "plt.xlim(X1.min(), X1.max())\n",
    "plt.ylim(X2.min(), X2.max())\n",
    "for i, j in enumerate(np.unique(y_set)):\n",
    "    plt.scatter(X_set[y_set == j, 0], X_set[y_set == j, 1],\n",
    "                c = ListedColormap(('magenta', 'blue'))(i), label = j)\n",
    "plt.title('Facebook Ad: Customer Click Prediction (Testing set)')\n",
    "plt.xlabel('Time Spent on Site')\n",
    "plt.ylabel('Estimated Salary')\n",
    "plt.legend()\n",
    "plt.show()"
   ]
  },
  {
   "cell_type": "code",
   "execution_count": null,
   "metadata": {},
   "outputs": [],
   "source": []
  }
 ],
 "metadata": {
  "kernelspec": {
   "display_name": "Python 3",
   "language": "python",
   "name": "python3"
  },
  "language_info": {
   "codemirror_mode": {
    "name": "ipython",
    "version": 3
   },
   "file_extension": ".py",
   "mimetype": "text/x-python",
   "name": "python",
   "nbconvert_exporter": "python",
   "pygments_lexer": "ipython3",
   "version": "3.7.4"
  }
 },
 "nbformat": 4,
 "nbformat_minor": 2
}
